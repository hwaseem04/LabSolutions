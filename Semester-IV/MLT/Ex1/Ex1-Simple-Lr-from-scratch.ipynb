{
 "cells": [
  {
   "cell_type": "code",
   "execution_count": 1,
   "id": "f33b737c",
   "metadata": {},
   "outputs": [],
   "source": [
    "import pandas as pd\n",
    "import numpy as np\n",
    "import matplotlib.pyplot as plt"
   ]
  },
  {
   "cell_type": "code",
   "execution_count": 2,
   "id": "2c4a8ae2",
   "metadata": {},
   "outputs": [
    {
     "data": {
      "text/html": [
       "<div>\n",
       "<style scoped>\n",
       "    .dataframe tbody tr th:only-of-type {\n",
       "        vertical-align: middle;\n",
       "    }\n",
       "\n",
       "    .dataframe tbody tr th {\n",
       "        vertical-align: top;\n",
       "    }\n",
       "\n",
       "    .dataframe thead th {\n",
       "        text-align: right;\n",
       "    }\n",
       "</style>\n",
       "<table border=\"1\" class=\"dataframe\">\n",
       "  <thead>\n",
       "    <tr style=\"text-align: right;\">\n",
       "      <th></th>\n",
       "      <th>x</th>\n",
       "      <th>y</th>\n",
       "    </tr>\n",
       "  </thead>\n",
       "  <tbody>\n",
       "    <tr>\n",
       "      <th>0</th>\n",
       "      <td>17</td>\n",
       "      <td>94</td>\n",
       "    </tr>\n",
       "    <tr>\n",
       "      <th>1</th>\n",
       "      <td>13</td>\n",
       "      <td>73</td>\n",
       "    </tr>\n",
       "    <tr>\n",
       "      <th>2</th>\n",
       "      <td>12</td>\n",
       "      <td>59</td>\n",
       "    </tr>\n",
       "    <tr>\n",
       "      <th>3</th>\n",
       "      <td>15</td>\n",
       "      <td>80</td>\n",
       "    </tr>\n",
       "    <tr>\n",
       "      <th>4</th>\n",
       "      <td>16</td>\n",
       "      <td>93</td>\n",
       "    </tr>\n",
       "  </tbody>\n",
       "</table>\n",
       "</div>"
      ],
      "text/plain": [
       "    x   y\n",
       "0  17  94\n",
       "1  13  73\n",
       "2  12  59\n",
       "3  15  80\n",
       "4  16  93"
      ]
     },
     "execution_count": 2,
     "metadata": {},
     "output_type": "execute_result"
    }
   ],
   "source": [
    "data = pd.read_csv(\"data1.csv\")\n",
    "data.head()"
   ]
  },
  {
   "cell_type": "code",
   "execution_count": 3,
   "id": "ddc03a0c",
   "metadata": {},
   "outputs": [],
   "source": [
    "X = data['x'].values\n",
    "y = data['y'].values"
   ]
  },
  {
   "cell_type": "code",
   "execution_count": 4,
   "id": "f1a45b65",
   "metadata": {},
   "outputs": [
    {
     "data": {
      "text/plain": [
       "array([17, 13, 12, 15, 16, 14, 18, 19])"
      ]
     },
     "execution_count": 4,
     "metadata": {},
     "output_type": "execute_result"
    }
   ],
   "source": [
    "pd.unique(X)"
   ]
  },
  {
   "cell_type": "code",
   "execution_count": 5,
   "id": "f0f93eae",
   "metadata": {},
   "outputs": [
    {
     "data": {
      "text/plain": [
       "array([94, 73, 59, 80, 93, 85, 66, 79, 77, 91])"
      ]
     },
     "execution_count": 5,
     "metadata": {},
     "output_type": "execute_result"
    }
   ],
   "source": [
    "pd.unique(y)"
   ]
  },
  {
   "cell_type": "markdown",
   "id": "6e460c66",
   "metadata": {},
   "source": [
    "#### Remarks: It is not possible to have different output values for same input values. Data is incorrect"
   ]
  },
  {
   "cell_type": "markdown",
   "id": "dcd4b2c7",
   "metadata": {},
   "source": [
    "## Train data visualisation"
   ]
  },
  {
   "cell_type": "code",
   "execution_count": 6,
   "id": "1aa56d68",
   "metadata": {},
   "outputs": [
    {
     "data": {
      "text/plain": [
       "Text(0, 0.5, '$y$')"
      ]
     },
     "execution_count": 6,
     "metadata": {},
     "output_type": "execute_result"
    },
    {
     "data": {
      "image/png": "[encoded data removed]",
      "text/plain": [
       "<Figure size 640x480 with 1 Axes>"
      ]
     },
     "metadata": {},
     "output_type": "display_data"
    }
   ],
   "source": [
    "plt.scatter(X,y)\n",
    "plt.xlabel(\"$x$\")\n",
    "plt.ylabel(\"$y$\")"
   ]
  },
  {
   "cell_type": "code",
   "execution_count": 7,
   "id": "57f6bcb0",
   "metadata": {},
   "outputs": [],
   "source": [
    "class Model:\n",
    "    def __init__(self, X, y):\n",
    "        self.X = X\n",
    "        self.y = y\n",
    "        self.w = 0\n",
    "        self.intercept = 0\n",
    "    def forward(self):\n",
    "        return self.X * self.w + self.intercept\n",
    "    def update(self):\n",
    "        n = len(X)\n",
    "        self.w = (n * (self.X * self.y).sum() - self.X.sum() * self.y.sum()) / (n * (self.X**2).sum() - ((self.X).sum())**2) \n",
    "        self.intercept = (self.y.sum() - self.w * self.X.sum())/n\n",
    "        \n",
    "def rmse(pred, y):\n",
    "    return np.sqrt(((pred - y)**2).sum()/len(y))\n",
    "def mae(pred, y):\n",
    "    return (abs(pred - y)).sum()/len(y)"
   ]
  },
  {
   "cell_type": "code",
   "execution_count": 8,
   "id": "ea8fd8db",
   "metadata": {},
   "outputs": [],
   "source": [
    "model = Model(X,y)"
   ]
  },
  {
   "cell_type": "code",
   "execution_count": 9,
   "id": "3fc0efd6",
   "metadata": {},
   "outputs": [
    {
     "data": {
      "text/plain": [
       "array([0, 0, 0, 0, 0, 0, 0, 0, 0, 0, 0, 0, 0, 0, 0, 0, 0, 0, 0, 0, 0, 0,\n",
       "       0, 0, 0, 0, 0, 0, 0, 0, 0, 0, 0, 0, 0, 0, 0, 0, 0, 0, 0, 0, 0, 0,\n",
       "       0, 0, 0, 0, 0, 0, 0, 0, 0, 0, 0, 0, 0, 0, 0, 0, 0, 0, 0, 0, 0, 0,\n",
       "       0, 0, 0, 0, 0, 0, 0, 0, 0, 0, 0, 0, 0, 0, 0, 0, 0, 0, 0, 0, 0, 0,\n",
       "       0, 0, 0, 0, 0, 0, 0, 0, 0, 0, 0, 0, 0, 0, 0, 0, 0, 0, 0, 0, 0, 0,\n",
       "       0, 0, 0, 0, 0, 0, 0, 0, 0, 0])"
      ]
     },
     "execution_count": 9,
     "metadata": {},
     "output_type": "execute_result"
    }
   ],
   "source": [
    "model.forward()"
   ]
  },
  {
   "cell_type": "code",
   "execution_count": 10,
   "id": "ea02a41e",
   "metadata": {},
   "outputs": [],
   "source": [
    "model.update()"
   ]
  },
  {
   "cell_type": "code",
   "execution_count": 11,
   "id": "62e25efc",
   "metadata": {},
   "outputs": [
    {
     "data": {
      "text/plain": [
       "array([84.1509434 , 71.43396226, 68.25471698, 77.79245283, 80.97169811,\n",
       "       74.61320755, 80.97169811, 80.97169811, 87.33018868, 90.50943396,\n",
       "       84.1509434 , 71.43396226, 68.25471698, 77.79245283, 80.97169811,\n",
       "       74.61320755, 80.97169811, 80.97169811, 87.33018868, 90.50943396,\n",
       "       84.1509434 , 71.43396226, 68.25471698, 77.79245283, 80.97169811,\n",
       "       74.61320755, 80.97169811, 80.97169811, 87.33018868, 90.50943396,\n",
       "       84.1509434 , 71.43396226, 68.25471698, 77.79245283, 80.97169811,\n",
       "       74.61320755, 80.97169811, 80.97169811, 87.33018868, 90.50943396,\n",
       "       84.1509434 , 71.43396226, 68.25471698, 77.79245283, 80.97169811,\n",
       "       74.61320755, 80.97169811, 80.97169811, 87.33018868, 90.50943396,\n",
       "       84.1509434 , 71.43396226, 68.25471698, 77.79245283, 80.97169811,\n",
       "       74.61320755, 80.97169811, 80.97169811, 87.33018868, 90.50943396,\n",
       "       84.1509434 , 71.43396226, 68.25471698, 77.79245283, 80.97169811,\n",
       "       74.61320755, 80.97169811, 80.97169811, 87.33018868, 90.50943396,\n",
       "       84.1509434 , 71.43396226, 68.25471698, 77.79245283, 80.97169811,\n",
       "       74.61320755, 80.97169811, 80.97169811, 87.33018868, 90.50943396,\n",
       "       84.1509434 , 71.43396226, 68.25471698, 77.79245283, 80.97169811,\n",
       "       74.61320755, 80.97169811, 80.97169811, 87.33018868, 90.50943396,\n",
       "       84.1509434 , 71.43396226, 68.25471698, 77.79245283, 80.97169811,\n",
       "       74.61320755, 80.97169811, 80.97169811, 87.33018868, 90.50943396,\n",
       "       84.1509434 , 71.43396226, 68.25471698, 77.79245283, 80.97169811,\n",
       "       74.61320755, 80.97169811, 80.97169811, 87.33018868, 90.50943396,\n",
       "       84.1509434 , 71.43396226, 68.25471698, 77.79245283, 80.97169811,\n",
       "       74.61320755, 80.97169811, 80.97169811, 87.33018868, 90.50943396])"
      ]
     },
     "execution_count": 11,
     "metadata": {},
     "output_type": "execute_result"
    }
   ],
   "source": [
    "model.forward()"
   ]
  },
  {
   "cell_type": "code",
   "execution_count": 12,
   "id": "61b21dc3",
   "metadata": {},
   "outputs": [
    {
     "data": {
      "text/plain": [
       "(30.10377358490566, 3.1792452830188678)"
      ]
     },
     "execution_count": 12,
     "metadata": {},
     "output_type": "execute_result"
    }
   ],
   "source": [
    "model.intercept, model.w"
   ]
  },
  {
   "cell_type": "markdown",
   "id": "4e0f5d0a",
   "metadata": {},
   "source": [
    "## MSE on test data"
   ]
  },
  {
   "cell_type": "code",
   "execution_count": 13,
   "id": "7a783807",
   "metadata": {},
   "outputs": [
    {
     "data": {
      "text/plain": [
       "8.817810022046611"
      ]
     },
     "execution_count": 13,
     "metadata": {},
     "output_type": "execute_result"
    }
   ],
   "source": [
    "rmse(model.forward(), y)"
   ]
  },
  {
   "cell_type": "markdown",
   "id": "a0d79603",
   "metadata": {},
   "source": [
    "## MAE on test data"
   ]
  },
  {
   "cell_type": "code",
   "execution_count": 14,
   "id": "97d42657",
   "metadata": {},
   "outputs": [
    {
     "data": {
      "text/plain": [
       "7.30566037735849"
      ]
     },
     "execution_count": 14,
     "metadata": {},
     "output_type": "execute_result"
    }
   ],
   "source": [
    "mae(model.forward(),y)"
   ]
  },
  {
   "cell_type": "markdown",
   "id": "6ca03905",
   "metadata": {},
   "source": [
    "## Visualisation for test data"
   ]
  },
  {
   "cell_type": "code",
   "execution_count": 15,
   "id": "6ec08e53",
   "metadata": {},
   "outputs": [
    {
     "data": {
      "text/plain": [
       "<matplotlib.legend.Legend at 0x12152a7a0>"
      ]
     },
     "execution_count": 15,
     "metadata": {},
     "output_type": "execute_result"
    },
    {
     "data": {
      "image/png": "[encoded data removed]",
      "text/plain": [
       "<Figure size 640x480 with 1 Axes>"
      ]
     },
     "metadata": {},
     "output_type": "display_data"
    }
   ],
   "source": [
    "plt.scatter(X,y, color=\"r\")\n",
    "plt.plot(X, model.forward(), '>-c')\n",
    "plt.xlabel(\"$x$\")\n",
    "plt.ylabel(\"$y$\")\n",
    "plt.legend([\"Train Data\", \"Predicted line\"])"
   ]
  },
  {
   "cell_type": "code",
   "execution_count": null,
   "id": "2250da9f",
   "metadata": {},
   "outputs": [],
   "source": []
  }
 ],
 "metadata": {
  "kernelspec": {
   "display_name": "Python 3 (ipykernel)",
   "language": "python",
   "name": "python3"
  },
  "language_info": {
   "codemirror_mode": {
    "name": "ipython",
    "version": 3
   },
   "file_extension": ".py",
   "mimetype": "text/x-python",
   "name": "python",
   "nbconvert_exporter": "python",
   "pygments_lexer": "ipython3",
   "version": "3.10.6"
  }
 },
 "nbformat": 4,
 "nbformat_minor": 5
}
