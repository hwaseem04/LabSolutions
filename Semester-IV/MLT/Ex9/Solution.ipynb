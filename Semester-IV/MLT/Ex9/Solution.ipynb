{
 "cells": [
  {
   "cell_type": "code",
   "execution_count": 4,
   "id": "1c8b37ba",
   "metadata": {},
   "outputs": [],
   "source": [
    "import numpy as np\n",
    "import pandas as pd"
   ]
  },
  {
   "cell_type": "markdown",
   "id": "fddf12ed",
   "metadata": {},
   "source": [
    "## Dataset preparation"
   ]
  },
  {
   "cell_type": "code",
   "execution_count": 5,
   "id": "f5a0d228",
   "metadata": {},
   "outputs": [],
   "source": [
    "df = pd.read_csv('Bank_Personal_Loan_Modelling.csv')"
   ]
  },
  {
   "cell_type": "code",
   "execution_count": 6,
   "id": "cccac1c4",
   "metadata": {},
   "outputs": [
    {
     "data": {
      "text/html": [
       "<div>\n",
       "<style scoped>\n",
       "    .dataframe tbody tr th:only-of-type {\n",
       "        vertical-align: middle;\n",
       "    }\n",
       "\n",
       "    .dataframe tbody tr th {\n",
       "        vertical-align: top;\n",
       "    }\n",
       "\n",
       "    .dataframe thead th {\n",
       "        text-align: right;\n",
       "    }\n",
       "</style>\n",
       "<table border=\"1\" class=\"dataframe\">\n",
       "  <thead>\n",
       "    <tr style=\"text-align: right;\">\n",
       "      <th></th>\n",
       "      <th>ID</th>\n",
       "      <th>Age</th>\n",
       "      <th>Experience</th>\n",
       "      <th>Income</th>\n",
       "      <th>ZIP Code</th>\n",
       "      <th>Family</th>\n",
       "      <th>CCAvg</th>\n",
       "      <th>Education</th>\n",
       "      <th>Mortgage</th>\n",
       "      <th>Personal Loan</th>\n",
       "      <th>Securities Account</th>\n",
       "      <th>CD Account</th>\n",
       "      <th>Online</th>\n",
       "      <th>CreditCard</th>\n",
       "    </tr>\n",
       "  </thead>\n",
       "  <tbody>\n",
       "    <tr>\n",
       "      <th>0</th>\n",
       "      <td>1</td>\n",
       "      <td>25</td>\n",
       "      <td>1</td>\n",
       "      <td>49</td>\n",
       "      <td>91107</td>\n",
       "      <td>4</td>\n",
       "      <td>1.6</td>\n",
       "      <td>1</td>\n",
       "      <td>0</td>\n",
       "      <td>0</td>\n",
       "      <td>1</td>\n",
       "      <td>0</td>\n",
       "      <td>0</td>\n",
       "      <td>0</td>\n",
       "    </tr>\n",
       "    <tr>\n",
       "      <th>1</th>\n",
       "      <td>2</td>\n",
       "      <td>45</td>\n",
       "      <td>19</td>\n",
       "      <td>34</td>\n",
       "      <td>90089</td>\n",
       "      <td>3</td>\n",
       "      <td>1.5</td>\n",
       "      <td>1</td>\n",
       "      <td>0</td>\n",
       "      <td>0</td>\n",
       "      <td>1</td>\n",
       "      <td>0</td>\n",
       "      <td>0</td>\n",
       "      <td>0</td>\n",
       "    </tr>\n",
       "    <tr>\n",
       "      <th>2</th>\n",
       "      <td>3</td>\n",
       "      <td>39</td>\n",
       "      <td>15</td>\n",
       "      <td>11</td>\n",
       "      <td>94720</td>\n",
       "      <td>1</td>\n",
       "      <td>1.0</td>\n",
       "      <td>1</td>\n",
       "      <td>0</td>\n",
       "      <td>0</td>\n",
       "      <td>0</td>\n",
       "      <td>0</td>\n",
       "      <td>0</td>\n",
       "      <td>0</td>\n",
       "    </tr>\n",
       "    <tr>\n",
       "      <th>3</th>\n",
       "      <td>4</td>\n",
       "      <td>35</td>\n",
       "      <td>9</td>\n",
       "      <td>100</td>\n",
       "      <td>94112</td>\n",
       "      <td>1</td>\n",
       "      <td>2.7</td>\n",
       "      <td>2</td>\n",
       "      <td>0</td>\n",
       "      <td>0</td>\n",
       "      <td>0</td>\n",
       "      <td>0</td>\n",
       "      <td>0</td>\n",
       "      <td>0</td>\n",
       "    </tr>\n",
       "    <tr>\n",
       "      <th>4</th>\n",
       "      <td>5</td>\n",
       "      <td>35</td>\n",
       "      <td>8</td>\n",
       "      <td>45</td>\n",
       "      <td>91330</td>\n",
       "      <td>4</td>\n",
       "      <td>1.0</td>\n",
       "      <td>2</td>\n",
       "      <td>0</td>\n",
       "      <td>0</td>\n",
       "      <td>0</td>\n",
       "      <td>0</td>\n",
       "      <td>0</td>\n",
       "      <td>1</td>\n",
       "    </tr>\n",
       "  </tbody>\n",
       "</table>\n",
       "</div>"
      ],
      "text/plain": [
       "   ID  Age  Experience  Income  ZIP Code  Family  CCAvg  Education  Mortgage  \\\n",
       "0   1   25           1      49     91107       4    1.6          1         0   \n",
       "1   2   45          19      34     90089       3    1.5          1         0   \n",
       "2   3   39          15      11     94720       1    1.0          1         0   \n",
       "3   4   35           9     100     94112       1    2.7          2         0   \n",
       "4   5   35           8      45     91330       4    1.0          2         0   \n",
       "\n",
       "   Personal Loan  Securities Account  CD Account  Online  CreditCard  \n",
       "0              0                   1           0       0           0  \n",
       "1              0                   1           0       0           0  \n",
       "2              0                   0           0       0           0  \n",
       "3              0                   0           0       0           0  \n",
       "4              0                   0           0       0           1  "
      ]
     },
     "execution_count": 6,
     "metadata": {},
     "output_type": "execute_result"
    }
   ],
   "source": [
    "df.head()"
   ]
  },
  {
   "cell_type": "code",
   "execution_count": 7,
   "id": "e7bbf9b1",
   "metadata": {},
   "outputs": [],
   "source": [
    "df.drop(['ID'], inplace=True, axis=1)"
   ]
  },
  {
   "cell_type": "code",
   "execution_count": 8,
   "id": "37c48bd9",
   "metadata": {},
   "outputs": [
    {
     "data": {
      "text/html": [
       "<div>\n",
       "<style scoped>\n",
       "    .dataframe tbody tr th:only-of-type {\n",
       "        vertical-align: middle;\n",
       "    }\n",
       "\n",
       "    .dataframe tbody tr th {\n",
       "        vertical-align: top;\n",
       "    }\n",
       "\n",
       "    .dataframe thead th {\n",
       "        text-align: right;\n",
       "    }\n",
       "</style>\n",
       "<table border=\"1\" class=\"dataframe\">\n",
       "  <thead>\n",
       "    <tr style=\"text-align: right;\">\n",
       "      <th></th>\n",
       "      <th>Age</th>\n",
       "      <th>Experience</th>\n",
       "      <th>Income</th>\n",
       "      <th>ZIP Code</th>\n",
       "      <th>Family</th>\n",
       "      <th>CCAvg</th>\n",
       "      <th>Education</th>\n",
       "      <th>Mortgage</th>\n",
       "      <th>Personal Loan</th>\n",
       "      <th>Securities Account</th>\n",
       "      <th>CD Account</th>\n",
       "      <th>Online</th>\n",
       "      <th>CreditCard</th>\n",
       "    </tr>\n",
       "  </thead>\n",
       "  <tbody>\n",
       "    <tr>\n",
       "      <th>0</th>\n",
       "      <td>25</td>\n",
       "      <td>1</td>\n",
       "      <td>49</td>\n",
       "      <td>91107</td>\n",
       "      <td>4</td>\n",
       "      <td>1.6</td>\n",
       "      <td>1</td>\n",
       "      <td>0</td>\n",
       "      <td>0</td>\n",
       "      <td>1</td>\n",
       "      <td>0</td>\n",
       "      <td>0</td>\n",
       "      <td>0</td>\n",
       "    </tr>\n",
       "    <tr>\n",
       "      <th>1</th>\n",
       "      <td>45</td>\n",
       "      <td>19</td>\n",
       "      <td>34</td>\n",
       "      <td>90089</td>\n",
       "      <td>3</td>\n",
       "      <td>1.5</td>\n",
       "      <td>1</td>\n",
       "      <td>0</td>\n",
       "      <td>0</td>\n",
       "      <td>1</td>\n",
       "      <td>0</td>\n",
       "      <td>0</td>\n",
       "      <td>0</td>\n",
       "    </tr>\n",
       "    <tr>\n",
       "      <th>2</th>\n",
       "      <td>39</td>\n",
       "      <td>15</td>\n",
       "      <td>11</td>\n",
       "      <td>94720</td>\n",
       "      <td>1</td>\n",
       "      <td>1.0</td>\n",
       "      <td>1</td>\n",
       "      <td>0</td>\n",
       "      <td>0</td>\n",
       "      <td>0</td>\n",
       "      <td>0</td>\n",
       "      <td>0</td>\n",
       "      <td>0</td>\n",
       "    </tr>\n",
       "    <tr>\n",
       "      <th>3</th>\n",
       "      <td>35</td>\n",
       "      <td>9</td>\n",
       "      <td>100</td>\n",
       "      <td>94112</td>\n",
       "      <td>1</td>\n",
       "      <td>2.7</td>\n",
       "      <td>2</td>\n",
       "      <td>0</td>\n",
       "      <td>0</td>\n",
       "      <td>0</td>\n",
       "      <td>0</td>\n",
       "      <td>0</td>\n",
       "      <td>0</td>\n",
       "    </tr>\n",
       "    <tr>\n",
       "      <th>4</th>\n",
       "      <td>35</td>\n",
       "      <td>8</td>\n",
       "      <td>45</td>\n",
       "      <td>91330</td>\n",
       "      <td>4</td>\n",
       "      <td>1.0</td>\n",
       "      <td>2</td>\n",
       "      <td>0</td>\n",
       "      <td>0</td>\n",
       "      <td>0</td>\n",
       "      <td>0</td>\n",
       "      <td>0</td>\n",
       "      <td>1</td>\n",
       "    </tr>\n",
       "  </tbody>\n",
       "</table>\n",
       "</div>"
      ],
      "text/plain": [
       "   Age  Experience  Income  ZIP Code  Family  CCAvg  Education  Mortgage  \\\n",
       "0   25           1      49     91107       4    1.6          1         0   \n",
       "1   45          19      34     90089       3    1.5          1         0   \n",
       "2   39          15      11     94720       1    1.0          1         0   \n",
       "3   35           9     100     94112       1    2.7          2         0   \n",
       "4   35           8      45     91330       4    1.0          2         0   \n",
       "\n",
       "   Personal Loan  Securities Account  CD Account  Online  CreditCard  \n",
       "0              0                   1           0       0           0  \n",
       "1              0                   1           0       0           0  \n",
       "2              0                   0           0       0           0  \n",
       "3              0                   0           0       0           0  \n",
       "4              0                   0           0       0           1  "
      ]
     },
     "execution_count": 8,
     "metadata": {},
     "output_type": "execute_result"
    }
   ],
   "source": [
    "df.head()"
   ]
  },
  {
   "cell_type": "code",
   "execution_count": 9,
   "id": "70194594",
   "metadata": {},
   "outputs": [
    {
     "data": {
      "text/plain": [
       "Index(['Age', 'Experience', 'Income', 'ZIP Code', 'Family', 'CCAvg',\n",
       "       'Education', 'Mortgage', 'Personal Loan', 'Securities Account',\n",
       "       'CD Account', 'Online', 'CreditCard'],\n",
       "      dtype='object')"
      ]
     },
     "execution_count": 9,
     "metadata": {},
     "output_type": "execute_result"
    }
   ],
   "source": [
    "df.columns"
   ]
  },
  {
   "cell_type": "code",
   "execution_count": 10,
   "id": "a624a9e5",
   "metadata": {},
   "outputs": [],
   "source": [
    "X = df[['Age', 'Experience', 'Income', 'Family', 'CCAvg',\n",
    "       'Education', 'Mortgage', 'Securities Account',\n",
    "       'CD Account', 'Online', 'CreditCard']]\n",
    "y = df[['Personal Loan']]"
   ]
  },
  {
   "cell_type": "code",
   "execution_count": 11,
   "id": "cbd42436",
   "metadata": {},
   "outputs": [
    {
     "data": {
      "text/html": [
       "<div>\n",
       "<style scoped>\n",
       "    .dataframe tbody tr th:only-of-type {\n",
       "        vertical-align: middle;\n",
       "    }\n",
       "\n",
       "    .dataframe tbody tr th {\n",
       "        vertical-align: top;\n",
       "    }\n",
       "\n",
       "    .dataframe thead th {\n",
       "        text-align: right;\n",
       "    }\n",
       "</style>\n",
       "<table border=\"1\" class=\"dataframe\">\n",
       "  <thead>\n",
       "    <tr style=\"text-align: right;\">\n",
       "      <th></th>\n",
       "      <th>Age</th>\n",
       "      <th>Experience</th>\n",
       "      <th>Income</th>\n",
       "      <th>Family</th>\n",
       "      <th>CCAvg</th>\n",
       "      <th>Education</th>\n",
       "      <th>Mortgage</th>\n",
       "      <th>Securities Account</th>\n",
       "      <th>CD Account</th>\n",
       "      <th>Online</th>\n",
       "      <th>CreditCard</th>\n",
       "    </tr>\n",
       "  </thead>\n",
       "  <tbody>\n",
       "    <tr>\n",
       "      <th>0</th>\n",
       "      <td>25</td>\n",
       "      <td>1</td>\n",
       "      <td>49</td>\n",
       "      <td>4</td>\n",
       "      <td>1.6</td>\n",
       "      <td>1</td>\n",
       "      <td>0</td>\n",
       "      <td>1</td>\n",
       "      <td>0</td>\n",
       "      <td>0</td>\n",
       "      <td>0</td>\n",
       "    </tr>\n",
       "    <tr>\n",
       "      <th>1</th>\n",
       "      <td>45</td>\n",
       "      <td>19</td>\n",
       "      <td>34</td>\n",
       "      <td>3</td>\n",
       "      <td>1.5</td>\n",
       "      <td>1</td>\n",
       "      <td>0</td>\n",
       "      <td>1</td>\n",
       "      <td>0</td>\n",
       "      <td>0</td>\n",
       "      <td>0</td>\n",
       "    </tr>\n",
       "    <tr>\n",
       "      <th>2</th>\n",
       "      <td>39</td>\n",
       "      <td>15</td>\n",
       "      <td>11</td>\n",
       "      <td>1</td>\n",
       "      <td>1.0</td>\n",
       "      <td>1</td>\n",
       "      <td>0</td>\n",
       "      <td>0</td>\n",
       "      <td>0</td>\n",
       "      <td>0</td>\n",
       "      <td>0</td>\n",
       "    </tr>\n",
       "    <tr>\n",
       "      <th>3</th>\n",
       "      <td>35</td>\n",
       "      <td>9</td>\n",
       "      <td>100</td>\n",
       "      <td>1</td>\n",
       "      <td>2.7</td>\n",
       "      <td>2</td>\n",
       "      <td>0</td>\n",
       "      <td>0</td>\n",
       "      <td>0</td>\n",
       "      <td>0</td>\n",
       "      <td>0</td>\n",
       "    </tr>\n",
       "    <tr>\n",
       "      <th>4</th>\n",
       "      <td>35</td>\n",
       "      <td>8</td>\n",
       "      <td>45</td>\n",
       "      <td>4</td>\n",
       "      <td>1.0</td>\n",
       "      <td>2</td>\n",
       "      <td>0</td>\n",
       "      <td>0</td>\n",
       "      <td>0</td>\n",
       "      <td>0</td>\n",
       "      <td>1</td>\n",
       "    </tr>\n",
       "  </tbody>\n",
       "</table>\n",
       "</div>"
      ],
      "text/plain": [
       "   Age  Experience  Income  Family  CCAvg  Education  Mortgage  \\\n",
       "0   25           1      49       4    1.6          1         0   \n",
       "1   45          19      34       3    1.5          1         0   \n",
       "2   39          15      11       1    1.0          1         0   \n",
       "3   35           9     100       1    2.7          2         0   \n",
       "4   35           8      45       4    1.0          2         0   \n",
       "\n",
       "   Securities Account  CD Account  Online  CreditCard  \n",
       "0                   1           0       0           0  \n",
       "1                   1           0       0           0  \n",
       "2                   0           0       0           0  \n",
       "3                   0           0       0           0  \n",
       "4                   0           0       0           1  "
      ]
     },
     "execution_count": 11,
     "metadata": {},
     "output_type": "execute_result"
    }
   ],
   "source": [
    "X.head()"
   ]
  },
  {
   "cell_type": "code",
   "execution_count": 12,
   "id": "2c90fe35",
   "metadata": {},
   "outputs": [
    {
     "data": {
      "text/html": [
       "<div>\n",
       "<style scoped>\n",
       "    .dataframe tbody tr th:only-of-type {\n",
       "        vertical-align: middle;\n",
       "    }\n",
       "\n",
       "    .dataframe tbody tr th {\n",
       "        vertical-align: top;\n",
       "    }\n",
       "\n",
       "    .dataframe thead th {\n",
       "        text-align: right;\n",
       "    }\n",
       "</style>\n",
       "<table border=\"1\" class=\"dataframe\">\n",
       "  <thead>\n",
       "    <tr style=\"text-align: right;\">\n",
       "      <th></th>\n",
       "      <th>Personal Loan</th>\n",
       "    </tr>\n",
       "  </thead>\n",
       "  <tbody>\n",
       "    <tr>\n",
       "      <th>0</th>\n",
       "      <td>0</td>\n",
       "    </tr>\n",
       "    <tr>\n",
       "      <th>1</th>\n",
       "      <td>0</td>\n",
       "    </tr>\n",
       "    <tr>\n",
       "      <th>2</th>\n",
       "      <td>0</td>\n",
       "    </tr>\n",
       "    <tr>\n",
       "      <th>3</th>\n",
       "      <td>0</td>\n",
       "    </tr>\n",
       "    <tr>\n",
       "      <th>4</th>\n",
       "      <td>0</td>\n",
       "    </tr>\n",
       "  </tbody>\n",
       "</table>\n",
       "</div>"
      ],
      "text/plain": [
       "   Personal Loan\n",
       "0              0\n",
       "1              0\n",
       "2              0\n",
       "3              0\n",
       "4              0"
      ]
     },
     "execution_count": 12,
     "metadata": {},
     "output_type": "execute_result"
    }
   ],
   "source": [
    "y.head()"
   ]
  },
  {
   "cell_type": "code",
   "execution_count": 13,
   "id": "261bade1",
   "metadata": {},
   "outputs": [],
   "source": [
    "from sklearn.model_selection import train_test_split\n",
    "X_train, X_test, y_train, y_test = train_test_split(X.values, y.values, stratify=y.values, random_state=1)"
   ]
  },
  {
   "cell_type": "code",
   "execution_count": 14,
   "id": "d9ba6abd",
   "metadata": {},
   "outputs": [],
   "source": [
    "from sklearn.preprocessing import StandardScaler\n",
    "sc = StandardScaler()\n",
    "X_train = sc.fit_transform(X_train)\n",
    "X_test = sc.transform(X_test)"
   ]
  },
  {
   "cell_type": "markdown",
   "id": "13b2b9c0",
   "metadata": {},
   "source": [
    "## PyTorch"
   ]
  },
  {
   "cell_type": "code",
   "execution_count": 120,
   "id": "fd95294f",
   "metadata": {},
   "outputs": [],
   "source": [
    "import torch\n",
    "import torch.nn as nn\n",
    "\n",
    "from torch.optim import SGD\n",
    "from torch.utils.data import DataLoader, TensorDataset"
   ]
  },
  {
   "cell_type": "code",
   "execution_count": 13,
   "id": "6210244c",
   "metadata": {},
   "outputs": [],
   "source": [
    "X_train = torch.tensor(X_train).to(torch.float32)\n",
    "X_test  = torch.tensor(X_test).to(torch.float32)\n",
    "y_train = torch.tensor(y_train).to(torch.float32)\n",
    "y_test  = torch.tensor(y_test).to(torch.float32)"
   ]
  },
  {
   "cell_type": "code",
   "execution_count": 14,
   "id": "f4651c62",
   "metadata": {},
   "outputs": [
    {
     "data": {
      "text/plain": [
       "torch.Size([3750, 11])"
      ]
     },
     "execution_count": 14,
     "metadata": {},
     "output_type": "execute_result"
    }
   ],
   "source": [
    "X_train.shape"
   ]
  },
  {
   "cell_type": "code",
   "execution_count": 15,
   "id": "dbf0b2bb",
   "metadata": {},
   "outputs": [
    {
     "data": {
      "text/plain": [
       "tensor([[0.],\n",
       "        [0.],\n",
       "        [0.],\n",
       "        ...,\n",
       "        [0.],\n",
       "        [0.],\n",
       "        [0.]])"
      ]
     },
     "execution_count": 15,
     "metadata": {},
     "output_type": "execute_result"
    }
   ],
   "source": [
    "y_train"
   ]
  },
  {
   "cell_type": "code",
   "execution_count": 16,
   "id": "ec6d49b3",
   "metadata": {},
   "outputs": [],
   "source": [
    "dataset = TensorDataset(X_train, y_train)\n",
    "data = DataLoader(dataset, batch_size=32, shuffle=True)"
   ]
  },
  {
   "cell_type": "code",
   "execution_count": 17,
   "id": "bb2633a6",
   "metadata": {},
   "outputs": [],
   "source": [
    "model = nn.Sequential(\n",
    "    nn.Linear(11, 8),\n",
    "    nn.ReLU(),\n",
    "    nn.Linear(8, 4),\n",
    "    nn.ReLU(),\n",
    "    nn.Linear(4, 1),\n",
    "    nn.Sigmoid()\n",
    ")"
   ]
  },
  {
   "cell_type": "code",
   "execution_count": 18,
   "id": "68a3961f",
   "metadata": {},
   "outputs": [
    {
     "data": {
      "text/plain": [
       "Sequential(\n",
       "  (0): Linear(in_features=11, out_features=8, bias=True)\n",
       "  (1): ReLU()\n",
       "  (2): Linear(in_features=8, out_features=4, bias=True)\n",
       "  (3): ReLU()\n",
       "  (4): Linear(in_features=4, out_features=1, bias=True)\n",
       "  (5): Sigmoid()\n",
       ")"
      ]
     },
     "execution_count": 18,
     "metadata": {},
     "output_type": "execute_result"
    }
   ],
   "source": [
    "model"
   ]
  },
  {
   "cell_type": "code",
   "execution_count": 19,
   "id": "cd0e6611",
   "metadata": {},
   "outputs": [],
   "source": [
    "loss_fn = nn.BCELoss()\n",
    "optimizer = SGD(model.parameters(), lr=0.1)"
   ]
  },
  {
   "cell_type": "code",
   "execution_count": 20,
   "id": "ca7b2e4d",
   "metadata": {},
   "outputs": [
    {
     "data": {
      "text/plain": [
       "3750"
      ]
     },
     "execution_count": 20,
     "metadata": {},
     "output_type": "execute_result"
    }
   ],
   "source": [
    "len(data.dataset)"
   ]
  },
  {
   "cell_type": "code",
   "execution_count": 21,
   "id": "c9fcb16e",
   "metadata": {},
   "outputs": [],
   "source": [
    "def train(model, epoch, data):\n",
    "    train_loss = [0] * epoch\n",
    "    train_acc = [0] * epoch\n",
    "    \n",
    "    for i in range(epoch):\n",
    "        for x_batch, y_batch in data:\n",
    "            \n",
    "            pred = model(x_batch)\n",
    "            loss = loss_fn(pred, y_batch)\n",
    "            \n",
    "            \n",
    "            loss.backward()\n",
    "            \n",
    "            optimizer.step()\n",
    "            optimizer.zero_grad()\n",
    "            \n",
    "            train_loss[i] += loss.item() * x_batch.size(0)\n",
    "            crt_cnt = (torch.where(model(x_batch)>=0.5, 1, 0) == y_batch).sum()\n",
    "            train_acc[i] += crt_cnt\n",
    "            \n",
    "        train_loss[i] = train_loss[i]/len(data.dataset)\n",
    "        train_acc[i] = train_acc[i]/len(data.dataset)\n",
    "        \n",
    "        print(f'Epoch: {i+1}, Loss: {train_loss[i]}, Accuracy: {train_acc[i]}')\n",
    "\n",
    "    return train_loss, train_acc\n",
    "    "
   ]
  },
  {
   "cell_type": "code",
   "execution_count": 22,
   "id": "59ef0546",
   "metadata": {},
   "outputs": [
    {
     "name": "stdout",
     "output_type": "stream",
     "text": [
      "Epoch: 1, Loss: 0.309899601517121, Accuracy: 0.9039999842643738\n",
      "Epoch: 2, Loss: 0.21964769684473673, Accuracy: 0.9039999842643738\n",
      "Epoch: 3, Loss: 0.17161383893489837, Accuracy: 0.9039999842643738\n",
      "Epoch: 4, Loss: 0.14272996454238893, Accuracy: 0.9039999842643738\n",
      "Epoch: 5, Loss: 0.12123005695740383, Accuracy: 0.9567999839782715\n",
      "Epoch: 6, Loss: 0.1048418641726176, Accuracy: 0.9728000164031982\n",
      "Epoch: 7, Loss: 0.09350881623203555, Accuracy: 0.9783999919891357\n",
      "Epoch: 8, Loss: 0.0864280216495196, Accuracy: 0.9783999919891357\n",
      "Epoch: 9, Loss: 0.08023100702390075, Accuracy: 0.9818666577339172\n",
      "Epoch: 10, Loss: 0.07516056815385819, Accuracy: 0.9826666712760925\n",
      "Epoch: 11, Loss: 0.0714331739783287, Accuracy: 0.9832000136375427\n",
      "Epoch: 12, Loss: 0.06893293479975934, Accuracy: 0.9842666387557983\n",
      "Epoch: 13, Loss: 0.06599080271919569, Accuracy: 0.9845333099365234\n",
      "Epoch: 14, Loss: 0.06390585209131242, Accuracy: 0.9847999811172485\n",
      "Epoch: 15, Loss: 0.06208723174049519, Accuracy: 0.9866666793823242\n",
      "Epoch: 16, Loss: 0.061583827203512194, Accuracy: 0.9850666522979736\n",
      "Epoch: 17, Loss: 0.0596605752453208, Accuracy: 0.9858666658401489\n",
      "Epoch: 18, Loss: 0.05827317671676477, Accuracy: 0.9866666793823242\n",
      "Epoch: 19, Loss: 0.05736736711437503, Accuracy: 0.9874666929244995\n",
      "Epoch: 20, Loss: 0.05564593843687908, Accuracy: 0.9879999756813049\n"
     ]
    }
   ],
   "source": [
    "train_loss, train_acc = train(model, 20, data)"
   ]
  },
  {
   "cell_type": "markdown",
   "id": "afa449a0",
   "metadata": {},
   "source": [
    "### Evaluation on test data"
   ]
  },
  {
   "cell_type": "code",
   "execution_count": 23,
   "id": "ec2140c8",
   "metadata": {},
   "outputs": [],
   "source": [
    "testdata = TensorDataset(X_test, y_test)\n",
    "data_t = DataLoader(testdata, batch_size=1250)"
   ]
  },
  {
   "cell_type": "code",
   "execution_count": 24,
   "id": "de9881f7",
   "metadata": {},
   "outputs": [
    {
     "name": "stdout",
     "output_type": "stream",
     "text": [
      "Accuracy: 0.9728000164031982\n"
     ]
    }
   ],
   "source": [
    "with torch.no_grad():\n",
    "    for x_whole, y_whole in data_t:\n",
    "        prediction = model(x_whole)\n",
    "        crt_cnt = (torch.where(prediction>=0.5, 1, 0) == y_whole).sum()\n",
    "    print(f'Accuracy: {crt_cnt/len(data_t.dataset)}')"
   ]
  },
  {
   "cell_type": "markdown",
   "id": "1d4cb53a",
   "metadata": {},
   "source": [
    "## Tensorflow"
   ]
  },
  {
   "cell_type": "code",
   "execution_count": 15,
   "id": "ee308a28",
   "metadata": {},
   "outputs": [],
   "source": [
    "from tensorflow.keras import layers, Sequential, losses, optimizers, metrics\n"
   ]
  },
  {
   "cell_type": "code",
   "execution_count": 16,
   "id": "85c3e18e",
   "metadata": {},
   "outputs": [
    {
     "name": "stdout",
     "output_type": "stream",
     "text": [
      "Epoch 1/20\n"
     ]
    },
    {
     "name": "stderr",
     "output_type": "stream",
     "text": [
      "2023-03-24 18:08:29.645486: W tensorflow/core/platform/profile_utils/cpu_utils.cc:128] Failed to get CPU frequency: 0 Hz\n",
      "2023-03-24 18:08:29.881137: I tensorflow/core/grappler/optimizers/custom_graph_optimizer_registry.cc:114] Plugin optimizer for device_type GPU is enabled.\n"
     ]
    },
    {
     "name": "stdout",
     "output_type": "stream",
     "text": [
      "118/118 [==============================] - 2s 9ms/step - loss: 0.2560 - binary_accuracy: 0.9040\n",
      "Epoch 2/20\n",
      "118/118 [==============================] - 1s 7ms/step - loss: 0.1714 - binary_accuracy: 0.9040\n",
      "Epoch 3/20\n",
      "118/118 [==============================] - 1s 8ms/step - loss: 0.1435 - binary_accuracy: 0.9283\n",
      "Epoch 4/20\n",
      "118/118 [==============================] - 1s 8ms/step - loss: 0.1239 - binary_accuracy: 0.9603\n",
      "Epoch 5/20\n",
      "118/118 [==============================] - 1s 8ms/step - loss: 0.1090 - binary_accuracy: 0.9677\n",
      "Epoch 6/20\n",
      "118/118 [==============================] - 1s 8ms/step - loss: 0.0960 - binary_accuracy: 0.9712\n",
      "Epoch 7/20\n",
      "118/118 [==============================] - 1s 7ms/step - loss: 0.0865 - binary_accuracy: 0.9736\n",
      "Epoch 8/20\n",
      "118/118 [==============================] - 1s 8ms/step - loss: 0.0785 - binary_accuracy: 0.9781\n",
      "Epoch 9/20\n",
      "118/118 [==============================] - 1s 8ms/step - loss: 0.0722 - binary_accuracy: 0.9765\n",
      "Epoch 10/20\n",
      "118/118 [==============================] - 1s 7ms/step - loss: 0.0677 - binary_accuracy: 0.9779\n",
      "Epoch 11/20\n",
      "118/118 [==============================] - 1s 7ms/step - loss: 0.0652 - binary_accuracy: 0.9787\n",
      "Epoch 12/20\n",
      "118/118 [==============================] - 1s 7ms/step - loss: 0.0631 - binary_accuracy: 0.9792\n",
      "Epoch 13/20\n",
      "118/118 [==============================] - 1s 7ms/step - loss: 0.0605 - binary_accuracy: 0.9784\n",
      "Epoch 14/20\n",
      "118/118 [==============================] - 1s 8ms/step - loss: 0.0591 - binary_accuracy: 0.9784\n",
      "Epoch 15/20\n",
      "118/118 [==============================] - 1s 8ms/step - loss: 0.0583 - binary_accuracy: 0.9808\n",
      "Epoch 16/20\n",
      "118/118 [==============================] - 1s 8ms/step - loss: 0.0565 - binary_accuracy: 0.9832\n",
      "Epoch 17/20\n",
      "118/118 [==============================] - 1s 8ms/step - loss: 0.0565 - binary_accuracy: 0.9800\n",
      "Epoch 18/20\n",
      "118/118 [==============================] - 1s 7ms/step - loss: 0.0544 - binary_accuracy: 0.9819\n",
      "Epoch 19/20\n",
      "118/118 [==============================] - 1s 7ms/step - loss: 0.0531 - binary_accuracy: 0.9824\n",
      "Epoch 20/20\n",
      "118/118 [==============================] - 1s 8ms/step - loss: 0.0538 - binary_accuracy: 0.9829\n"
     ]
    },
    {
     "data": {
      "text/plain": [
       "<keras.callbacks.History at 0x28d142bb0>"
      ]
     },
     "execution_count": 16,
     "metadata": {},
     "output_type": "execute_result"
    }
   ],
   "source": [
    "model = Sequential()\n",
    "model.add(layers.Dense(units=8, input_dim=11, activation='relu'))\n",
    "model.add(layers.Dense(units=4, activation='relu'))\n",
    "model.add(layers.Dense(units=1, activation='sigmoid'))\n",
    "\n",
    "loss_fn = losses.BinaryCrossentropy()\n",
    "opt = optimizers.SGD(learning_rate=0.1)\n",
    "\n",
    "model.compile(optimizer=opt, loss=loss_fn, metrics=[metrics.BinaryAccuracy()])\n",
    "\n",
    "model.fit(X_train, y_train, batch_size=32, epochs=20)"
   ]
  },
  {
   "cell_type": "code",
   "execution_count": 17,
   "id": "b0a217d8",
   "metadata": {},
   "outputs": [
    {
     "name": "stdout",
     "output_type": "stream",
     "text": [
      "Model: \"sequential_1\"\n",
      "_________________________________________________________________\n",
      " Layer (type)                Output Shape              Param #   \n",
      "=================================================================\n",
      " dense_3 (Dense)             (None, 8)                 96        \n",
      "                                                                 \n",
      " dense_4 (Dense)             (None, 4)                 36        \n",
      "                                                                 \n",
      " dense_5 (Dense)             (None, 1)                 5         \n",
      "                                                                 \n",
      "=================================================================\n",
      "Total params: 137\n",
      "Trainable params: 137\n",
      "Non-trainable params: 0\n",
      "_________________________________________________________________\n"
     ]
    }
   ],
   "source": [
    "model.summary()"
   ]
  },
  {
   "cell_type": "code",
   "execution_count": 18,
   "id": "c369bae0",
   "metadata": {},
   "outputs": [
    {
     "name": "stdout",
     "output_type": "stream",
     "text": [
      "40/40 [==============================] - 0s 4ms/step\n"
     ]
    },
    {
     "name": "stderr",
     "output_type": "stream",
     "text": [
      "2023-03-24 18:08:48.557232: I tensorflow/core/grappler/optimizers/custom_graph_optimizer_registry.cc:114] Plugin optimizer for device_type GPU is enabled.\n"
     ]
    }
   ],
   "source": [
    "prediction = model.predict(X_test)"
   ]
  },
  {
   "cell_type": "code",
   "execution_count": 19,
   "id": "a2ad9638",
   "metadata": {},
   "outputs": [],
   "source": [
    "accuracy = (np.where(prediction >= 0.5, 1, 0) == y_test).sum()/len(X_test)"
   ]
  },
  {
   "cell_type": "code",
   "execution_count": 17,
   "id": "93cd5f1f",
   "metadata": {},
   "outputs": [
    {
     "data": {
      "text/plain": [
       "0.9752"
      ]
     },
     "execution_count": 17,
     "metadata": {},
     "output_type": "execute_result"
    }
   ],
   "source": [
    "accuracy"
   ]
  },
  {
   "cell_type": "markdown",
   "id": "f550c9ef",
   "metadata": {},
   "source": [
    "## From scratch (Experimental)\n",
    "- It currently highly unstable, i.e I get results sometimes, sometime not as the gradients explode(leading to sigmoid returning NaN)\n",
    "    - Sometime the accuracy is 30%, 60%, 70%, even 90% for the same hyper-parameters. So I am debugging it."
   ]
  },
  {
   "cell_type": "code",
   "execution_count": 20,
   "id": "36ff9415",
   "metadata": {},
   "outputs": [
    {
     "data": {
      "text/plain": [
       "(11, 3750)"
      ]
     },
     "execution_count": 20,
     "metadata": {},
     "output_type": "execute_result"
    }
   ],
   "source": [
    "X_train = X_train.T\n",
    "X_train.shape"
   ]
  },
  {
   "cell_type": "code",
   "execution_count": 21,
   "id": "3efbe561",
   "metadata": {},
   "outputs": [
    {
     "data": {
      "text/plain": [
       "(1, 3750)"
      ]
     },
     "execution_count": 21,
     "metadata": {},
     "output_type": "execute_result"
    }
   ],
   "source": [
    "y_train = y_train.T\n",
    "y_train.shape"
   ]
  },
  {
   "cell_type": "code",
   "execution_count": 22,
   "id": "725190af",
   "metadata": {},
   "outputs": [],
   "source": [
    "def sigmoid(z):\n",
    "    return 1/(1+np.exp(-z))\n",
    "\n",
    "def delta_sigmoid(z):\n",
    "    return z*(1-z)\n",
    "\n",
    "def relu(z):\n",
    "    return np.maximum(0,z)\n",
    "\n",
    "def delta_relu(z):\n",
    "    return np.where(z > 0, 1, 0)\n",
    "\n",
    "def loss_fn(pred, y):\n",
    "    return np.mean((pred - y)**2, axis=1)"
   ]
  },
  {
   "cell_type": "code",
   "execution_count": 23,
   "id": "0a65122c",
   "metadata": {},
   "outputs": [],
   "source": [
    "class Net_scratch:\n",
    "    def __init__(self, in_features, out_features):\n",
    "        # Hidden Linear layer with 3 neurons\n",
    "        self.W1 = np.random.rand(3, in_features) * 0.3\n",
    "        self.B1 = np.random.randn(3,1) \n",
    "        \n",
    "        # Output layer with 1 neuron\n",
    "        self.W2 = np.random.rand(out_features,3) * 0.3\n",
    "        self.B2 = np.random.randn(out_features,1) \n",
    "        \n",
    "    def forward(self, x):\n",
    "        self.Z1 = self.W1 @ x + self.B1\n",
    "        self.A1 = relu(self.Z1)\n",
    "        self.Z2 = self.W2 @ self.A1 + self.B2\n",
    "        self.A2 = sigmoid(self.Z2)\n",
    "        return self.A2\n",
    "    \n",
    "    def backward(self, X, Y, lr=0.01):\n",
    "        '''\n",
    "        Calculate gradients and update parameters\n",
    "        '''\n",
    "        m = len(X)\n",
    "        # Gradients calculation\n",
    "        dZ2 = (self.A2 - Y) * delta_sigmoid(self.Z2)\n",
    "        dW2 = (1/m)* (dZ2 @ self.A2.T)\n",
    "        dB2 = (1/m)* (np.sum(dZ2, axis=1).reshape(-1,1)) # repeat\n",
    "        \n",
    "        dZ1 = delta_relu(self.Z1) * (self.W2.T @ dZ2) # repeat\n",
    "        dW1 = (1/m)* (dZ1 @ X.T)\n",
    "        dB1 = (1/m)* (np.sum(dZ1, axis=1).reshape(-1,1)) # repeat\n",
    "\n",
    "#         print(dW1)\n",
    "#         print(dW2)\n",
    "        # Weights and bias updation\n",
    "        self.W1 -= lr * dW1\n",
    "        self.B1 -= lr * dB1\n",
    "        self.W2 -= lr * dW2\n",
    "        self.B2 -= lr * dB2\n",
    "    \n",
    "    def predict(self, X):\n",
    "        return self.forward(X)\n",
    "        "
   ]
  },
  {
   "cell_type": "code",
   "execution_count": 35,
   "id": "0ae08c84",
   "metadata": {},
   "outputs": [],
   "source": [
    "scratch = Net_scratch(11,1)"
   ]
  },
  {
   "cell_type": "code",
   "execution_count": 36,
   "id": "68bf0f38",
   "metadata": {},
   "outputs": [],
   "source": [
    "def train(model, epoch, X, y):\n",
    "    for i in range(epoch):    \n",
    "        pred = model.forward(X)\n",
    "        model.backward(X,y)\n",
    "        loss = loss_fn(pred, y)\n",
    "        print(loss[0])\n"
   ]
  },
  {
   "cell_type": "code",
   "execution_count": 37,
   "id": "1dc97891",
   "metadata": {},
   "outputs": [
    {
     "name": "stdout",
     "output_type": "stream",
     "text": [
      "0.5350397376806574\n",
      "0.7542625703312705\n",
      "0.9039993742726025\n",
      "0.904\n",
      "0.904\n",
      "0.904\n",
      "nan\n",
      "nan\n",
      "nan\n",
      "nan\n",
      "nan\n",
      "nan\n",
      "nan\n",
      "nan\n",
      "nan\n",
      "nan\n",
      "nan\n",
      "nan\n",
      "nan\n",
      "nan\n"
     ]
    },
    {
     "name": "stderr",
     "output_type": "stream",
     "text": [
      "/var/folders/m5/xgbg_j9n4lj22vhdl_zqqlzm0000gn/T/ipykernel_69983/2889038612.py:5: RuntimeWarning: overflow encountered in multiply\n",
      "  return z*(1-z)\n",
      "/var/folders/m5/xgbg_j9n4lj22vhdl_zqqlzm0000gn/T/ipykernel_69983/133294747.py:24: RuntimeWarning: invalid value encountered in multiply\n",
      "  dZ2 = (self.A2 - Y) * delta_sigmoid(self.Z2)\n",
      "/var/folders/m5/xgbg_j9n4lj22vhdl_zqqlzm0000gn/T/ipykernel_69983/133294747.py:28: RuntimeWarning: overflow encountered in matmul\n",
      "  dZ1 = delta_relu(self.Z1) * (self.W2.T @ dZ2) # repeat\n",
      "/var/folders/m5/xgbg_j9n4lj22vhdl_zqqlzm0000gn/T/ipykernel_69983/133294747.py:28: RuntimeWarning: invalid value encountered in multiply\n",
      "  dZ1 = delta_relu(self.Z1) * (self.W2.T @ dZ2) # repeat\n",
      "/var/folders/m5/xgbg_j9n4lj22vhdl_zqqlzm0000gn/T/ipykernel_69983/133294747.py:29: RuntimeWarning: invalid value encountered in matmul\n",
      "  dW1 = (1/m)* (dZ1 @ X.T)\n"
     ]
    }
   ],
   "source": [
    "train(scratch, 20, X_train, y_train)"
   ]
  },
  {
   "cell_type": "code",
   "execution_count": 38,
   "id": "f7f67bb4",
   "metadata": {},
   "outputs": [
    {
     "data": {
      "text/plain": [
       "0.904"
      ]
     },
     "execution_count": 38,
     "metadata": {},
     "output_type": "execute_result"
    }
   ],
   "source": [
    "(np.where(scratch.predict(X_train)>=0.5, 1,0)==y_train).mean()"
   ]
  },
  {
   "cell_type": "markdown",
   "id": "3ab3864e",
   "metadata": {},
   "source": [
    "### Test data"
   ]
  },
  {
   "cell_type": "code",
   "execution_count": 42,
   "id": "f53b184f",
   "metadata": {},
   "outputs": [
    {
     "data": {
      "text/plain": [
       "(11, 1250)"
      ]
     },
     "execution_count": 42,
     "metadata": {},
     "output_type": "execute_result"
    }
   ],
   "source": [
    "X_test = X_test.T\n",
    "X_test.shape"
   ]
  },
  {
   "cell_type": "code",
   "execution_count": 40,
   "id": "0489d413",
   "metadata": {},
   "outputs": [
    {
     "data": {
      "text/plain": [
       "(1, 1250)"
      ]
     },
     "execution_count": 40,
     "metadata": {},
     "output_type": "execute_result"
    }
   ],
   "source": [
    "y_test = y_test.reshape(-1,1).T\n",
    "y_test.shape"
   ]
  },
  {
   "cell_type": "code",
   "execution_count": 43,
   "id": "fb6be0d0",
   "metadata": {},
   "outputs": [
    {
     "data": {
      "text/plain": [
       "0.904"
      ]
     },
     "execution_count": 43,
     "metadata": {},
     "output_type": "execute_result"
    }
   ],
   "source": [
    "(np.where(scratch.predict(X_test)>=0.5, 1,0)==y_test).mean()"
   ]
  },
  {
   "cell_type": "markdown",
   "id": "e8a5c2f2",
   "metadata": {},
   "source": [
    "**Weirdly** getting 90% accuracy when my model returns NaN. Debugging the reason, but clearly the gradients are exploding."
   ]
  },
  {
   "cell_type": "raw",
   "id": "0f9797cb",
   "metadata": {},
   "source": []
  }
 ],
 "metadata": {
  "kernelspec": {
   "display_name": "Python 3 (ipykernel)",
   "language": "python",
   "name": "python3"
  },
  "language_info": {
   "codemirror_mode": {
    "name": "ipython",
    "version": 3
   },
   "file_extension": ".py",
   "mimetype": "text/x-python",
   "name": "python",
   "nbconvert_exporter": "python",
   "pygments_lexer": "ipython3",
   "version": "3.8.13"
  }
 },
 "nbformat": 4,
 "nbformat_minor": 5
}
