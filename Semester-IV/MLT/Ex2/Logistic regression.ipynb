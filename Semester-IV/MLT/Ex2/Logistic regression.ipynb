{
 "cells": [
  {
   "cell_type": "code",
   "execution_count": 1,
   "id": "bd426572",
   "metadata": {},
   "outputs": [],
   "source": [
    "import numpy as np\n",
    "import pandas as pd\n",
    "import matplotlib.pyplot as plt\n",
    "\n",
    "from sklearn.preprocessing import StandardScaler\n",
    "from sklearn.linear_model import LogisticRegression"
   ]
  },
  {
   "cell_type": "markdown",
   "id": "ebf388e0",
   "metadata": {},
   "source": [
    "## Data Loading"
   ]
  },
  {
   "cell_type": "code",
   "execution_count": 2,
   "id": "f2a19d2e",
   "metadata": {},
   "outputs": [],
   "source": [
    "data = pd.read_csv('train.csv')"
   ]
  },
  {
   "cell_type": "code",
   "execution_count": 3,
   "id": "5282ce27",
   "metadata": {},
   "outputs": [
    {
     "name": "stdout",
     "output_type": "stream",
     "text": [
      "<class 'pandas.core.frame.DataFrame'>\n",
      "RangeIndex: 54808 entries, 0 to 54807\n",
      "Data columns (total 14 columns):\n",
      " #   Column                Non-Null Count  Dtype  \n",
      "---  ------                --------------  -----  \n",
      " 0   employee_id           54808 non-null  int64  \n",
      " 1   department            54808 non-null  object \n",
      " 2   region                54808 non-null  object \n",
      " 3   education             52399 non-null  object \n",
      " 4   gender                54808 non-null  object \n",
      " 5   recruitment_channel   54808 non-null  object \n",
      " 6   no_of_trainings       54808 non-null  int64  \n",
      " 7   age                   54808 non-null  int64  \n",
      " 8   previous_year_rating  50684 non-null  float64\n",
      " 9   length_of_service     54808 non-null  int64  \n",
      " 10  KPIs_met >80%         54808 non-null  int64  \n",
      " 11  awards_won?           54808 non-null  int64  \n",
      " 12  avg_training_score    54808 non-null  int64  \n",
      " 13  is_promoted           54808 non-null  int64  \n",
      "dtypes: float64(1), int64(8), object(5)\n",
      "memory usage: 5.9+ MB\n"
     ]
    }
   ],
   "source": [
    "data.info()"
   ]
  },
  {
   "cell_type": "markdown",
   "id": "c7774d99",
   "metadata": {},
   "source": [
    "## Preprocessing"
   ]
  },
  {
   "cell_type": "code",
   "execution_count": 4,
   "id": "e4bd04c0",
   "metadata": {},
   "outputs": [],
   "source": [
    "import seaborn as sns\n",
    "#sns.pairplot(data)"
   ]
  },
  {
   "cell_type": "code",
   "execution_count": 5,
   "id": "d99a7afe",
   "metadata": {},
   "outputs": [],
   "source": [
    "# plt.figure(figsize=(12,7))\n",
    "# for i, col in enumerate(data.select_dtypes(exclude='object')):\n",
    "#     plt.subplot(2,5, i+1)\n",
    "#     data[col].plot(kind='box')\n",
    "# plt.tight_layout()"
   ]
  },
  {
   "cell_type": "code",
   "execution_count": 6,
   "id": "c131d4e2",
   "metadata": {},
   "outputs": [],
   "source": [
    "def preprocessing_pipeline(data, train=True):\n",
    "    if train:\n",
    "        data = data.dropna()\n",
    "        y = data[['is_promoted']].copy()\n",
    "        data = data.drop(columns=['is_promoted'])\n",
    "        \n",
    "    X = data.copy()\n",
    "    \n",
    "    # If null values are present, it is considered as 0. i.e value in new-col1 and new-col2 will be 0 \n",
    "    column_for_dummies = ['education', 'gender', 'recruitment_channel']\n",
    "    for i in column_for_dummies:\n",
    "        new_col = pd.get_dummies(data[i], drop_first=True)\n",
    "        X = X.join(new_col)\n",
    "        #print(X.columns)\n",
    "        \n",
    "    #print(X.columns)\n",
    "    column_for_label_encode = ['department', 'region']\n",
    "    for i in column_for_label_encode:\n",
    "        new_col = data[i].astype('category').cat.codes\n",
    "        X[i + '_cat'] = new_col\n",
    "     \n",
    "    col_to_drop = column_for_dummies + column_for_label_encode + ['employee_id']\n",
    "    X.drop(columns=col_to_drop, inplace=True)\n",
    "    #print(X.columns)\n",
    "    if train:\n",
    "        return X, y\n",
    "    else:\n",
    "        return X\n",
    "        "
   ]
  },
  {
   "cell_type": "code",
   "execution_count": 7,
   "id": "8e60d69b",
   "metadata": {},
   "outputs": [],
   "source": [
    "X,y=preprocessing_pipeline(data)"
   ]
  },
  {
   "cell_type": "code",
   "execution_count": 8,
   "id": "5d387391",
   "metadata": {},
   "outputs": [
    {
     "data": {
      "text/plain": [
       "((48660, 14), (48660, 1))"
      ]
     },
     "execution_count": 8,
     "metadata": {},
     "output_type": "execute_result"
    }
   ],
   "source": [
    "X.shape, y.shape"
   ]
  },
  {
   "cell_type": "markdown",
   "id": "ece7f7c9",
   "metadata": {},
   "source": [
    "Total distribution of data labels"
   ]
  },
  {
   "cell_type": "code",
   "execution_count": 9,
   "id": "7a06fb9b",
   "metadata": {},
   "outputs": [
    {
     "data": {
      "text/plain": [
       "array([44428,  4232])"
      ]
     },
     "execution_count": 9,
     "metadata": {},
     "output_type": "execute_result"
    }
   ],
   "source": [
    "np.bincount(y.values[:,0])"
   ]
  },
  {
   "cell_type": "code",
   "execution_count": 10,
   "id": "bb2c9f04",
   "metadata": {},
   "outputs": [],
   "source": [
    "from sklearn.model_selection import train_test_split\n",
    "X_train, X_test, y_train, y_test = train_test_split(X.values, y.values, train_size=0.8, random_state=500)"
   ]
  },
  {
   "cell_type": "code",
   "execution_count": 11,
   "id": "cd2bc208",
   "metadata": {},
   "outputs": [
    {
     "data": {
      "text/plain": [
       "((38928, 14), (9732, 14))"
      ]
     },
     "execution_count": 11,
     "metadata": {},
     "output_type": "execute_result"
    }
   ],
   "source": [
    "X_train.shape, X_test.shape"
   ]
  },
  {
   "cell_type": "code",
   "execution_count": 12,
   "id": "d39e5ff1",
   "metadata": {},
   "outputs": [],
   "source": [
    "sc = StandardScaler()\n",
    "X_train = sc.fit_transform(X_train)"
   ]
  },
  {
   "cell_type": "markdown",
   "id": "3ecf84cb",
   "metadata": {},
   "source": [
    "## Model"
   ]
  },
  {
   "cell_type": "code",
   "execution_count": 13,
   "id": "a98e3cc2",
   "metadata": {},
   "outputs": [],
   "source": [
    "reg = LogisticRegression()\n",
    "model = reg.fit(X_train, y_train.reshape(-1))"
   ]
  },
  {
   "cell_type": "markdown",
   "id": "efc1a007",
   "metadata": {},
   "source": [
    "## Evaluation with validation data\n",
    "Metrics to consider:\n",
    "- Accuracy(when class is balanced)\n",
    "- Precision\n",
    "- Recall\n",
    "- F1 score\n",
    "\n",
    "- False Positive Rate : $ FPR = \\dfrac{FP}{FP + TN}$ \n",
    "    - Out of actual negative classes, how much is incorrectly  predicted as positive class\n",
    "- False Negative Rate : $ FNR = \\dfrac{FN}{FN + TP}$\n",
    "    - Out of actual positive classes, how much is incorrectly predicted as negative class"
   ]
  },
  {
   "cell_type": "code",
   "execution_count": 14,
   "id": "5311c36b",
   "metadata": {},
   "outputs": [],
   "source": [
    "from sklearn.metrics import accuracy_score, classification_report, confusion_matrix\n",
    "\n",
    "X_test = sc.transform(X_test)\n",
    "pred = model.predict(X_test)"
   ]
  },
  {
   "cell_type": "code",
   "execution_count": 85,
   "id": "e5d82536",
   "metadata": {},
   "outputs": [
    {
     "data": {
      "text/plain": [
       "array([7024, 2708])"
      ]
     },
     "execution_count": 85,
     "metadata": {},
     "output_type": "execute_result"
    }
   ],
   "source": [
    "pred_new = (model.predict_proba(X_test)[:,1] >= 0.0999).astype(bool)\n",
    "np.bincount(pred_new)"
   ]
  },
  {
   "cell_type": "code",
   "execution_count": 86,
   "id": "9ce8f978",
   "metadata": {},
   "outputs": [],
   "source": [
    "tn, fp, fn, tp = confusion_matrix(pred_new, y_test).ravel()"
   ]
  },
  {
   "cell_type": "code",
   "execution_count": 87,
   "id": "dac67044",
   "metadata": {},
   "outputs": [
    {
     "name": "stdout",
     "output_type": "stream",
     "text": [
      "Precision: 0.6759142496847415\n",
      "Recall: 0.19793205317577547\n",
      "F1 Score: 0.30619822907740646\n"
     ]
    }
   ],
   "source": [
    "## Overall precision\n",
    "precision = tp/(tp+fp)\n",
    "recall = tp/(tp+fn)\n",
    "print(f\"Precision: {precision}\")\n",
    "## Overall recall\n",
    "print(f\"Recall: {recall}\")\n",
    "## Overall F1 score\n",
    "print(f\"F1 Score: {(2 * precision * recall)/ (precision + recall) }\")"
   ]
  },
  {
   "cell_type": "code",
   "execution_count": 88,
   "id": "eb944a75",
   "metadata": {},
   "outputs": [
    {
     "data": {
      "text/plain": [
       "0.7504110152075627"
      ]
     },
     "execution_count": 88,
     "metadata": {},
     "output_type": "execute_result"
    }
   ],
   "source": [
    "accuracy_score(pred_new, y_test)"
   ]
  },
  {
   "cell_type": "code",
   "execution_count": 57,
   "id": "d4410f0a",
   "metadata": {},
   "outputs": [
    {
     "data": {
      "text/plain": [
       "array([23271,   219])"
      ]
     },
     "execution_count": 57,
     "metadata": {},
     "output_type": "execute_result"
    }
   ],
   "source": [
    "np.bincount(pred)"
   ]
  },
  {
   "cell_type": "markdown",
   "id": "75faa525",
   "metadata": {},
   "source": [
    "#### When threshold=0.5\n",
    "- Precision is very low for  class 1. i.e Out of total positive prediction(class 1 being positive), only 8 % is actually positive (i.e promoted).\n",
    "- Recall = 0.64 mean - Out of actual positive class, only 64% is correctly predicted as positive class(i.e promotions)\n",
    "- Combined F1 score for class 1 is very low (Closer to 1 is better). So threshold has to be changed.\n",
    "\n",
    "The reason being class imbalance. Class 1 has less groundtruths than class 0"
   ]
  },
  {
   "cell_type": "code",
   "execution_count": 17,
   "id": "fd5ee01c",
   "metadata": {},
   "outputs": [
    {
     "name": "stdout",
     "output_type": "stream",
     "text": [
      "              precision    recall  f1-score   support\n",
      "\n",
      "           0       1.00      0.92      0.96      9638\n",
      "           1       0.08      0.64      0.14        94\n",
      "\n",
      "    accuracy                           0.92      9732\n",
      "   macro avg       0.54      0.78      0.55      9732\n",
      "weighted avg       0.99      0.92      0.95      9732\n",
      "\n"
     ]
    }
   ],
   "source": [
    "print(classification_report(pred, y_test))"
   ]
  },
  {
   "cell_type": "code",
   "execution_count": 18,
   "id": "a3e3e092",
   "metadata": {},
   "outputs": [
    {
     "data": {
      "text/plain": [
       "array([[8905,  733],\n",
       "       [  34,   60]])"
      ]
     },
     "execution_count": 18,
     "metadata": {},
     "output_type": "execute_result"
    }
   ],
   "source": [
    "confusion_matrix(pred, y_test)"
   ]
  },
  {
   "cell_type": "code",
   "execution_count": 19,
   "id": "7206e298",
   "metadata": {},
   "outputs": [
    {
     "data": {
      "text/plain": [
       "0.9211878339498561"
      ]
     },
     "execution_count": 19,
     "metadata": {},
     "output_type": "execute_result"
    }
   ],
   "source": [
    "accuracy_score(pred, y_test)"
   ]
  },
  {
   "cell_type": "code",
   "execution_count": 20,
   "id": "8a4687c0",
   "metadata": {},
   "outputs": [],
   "source": [
    "tn, fp, fn, tp = confusion_matrix(pred, y_test).ravel()"
   ]
  },
  {
   "cell_type": "code",
   "execution_count": 21,
   "id": "0677dcf1",
   "metadata": {},
   "outputs": [
    {
     "data": {
      "text/plain": [
       "(8905, 733, 34, 60)"
      ]
     },
     "execution_count": 21,
     "metadata": {},
     "output_type": "execute_result"
    }
   ],
   "source": [
    "tn,fp, fn,tp"
   ]
  },
  {
   "cell_type": "code",
   "execution_count": 22,
   "id": "d33d7cf3",
   "metadata": {},
   "outputs": [
    {
     "name": "stdout",
     "output_type": "stream",
     "text": [
      "Precision: 0.07566204287515763\n",
      "Recall: 0.6382978723404256\n",
      "F1 Score: 0.13528748590755355\n"
     ]
    }
   ],
   "source": [
    "## Overall precision\n",
    "precision = tp/(tp+fp)\n",
    "recall = tp/(tp+fn)\n",
    "print(f\"Precision: {precision}\")\n",
    "## Overall recall\n",
    "print(f\"Recall: {recall}\")\n",
    "## Overall F1 score\n",
    "print(f\"F1 Score: {(2 * precision * recall)/ (precision + recall) }\")"
   ]
  },
  {
   "cell_type": "markdown",
   "id": "aba61822",
   "metadata": {},
   "source": [
    "F1 score is very low. **Very poor model with threshold=0.5**"
   ]
  },
  {
   "cell_type": "markdown",
   "id": "172ae859",
   "metadata": {},
   "source": [
    "### Precision-recall & ROC Curve"
   ]
  },
  {
   "cell_type": "code",
   "execution_count": 23,
   "id": "65c2a8da",
   "metadata": {},
   "outputs": [],
   "source": [
    "from sklearn.metrics import roc_curve, precision_recall_curve, f1_score\n",
    "from plotnine import *\n",
    "import plotnine"
   ]
  },
  {
   "cell_type": "markdown",
   "id": "3c51a650",
   "metadata": {},
   "source": [
    "## Test data"
   ]
  },
  {
   "cell_type": "code",
   "execution_count": 24,
   "id": "50ba5bf7",
   "metadata": {},
   "outputs": [
    {
     "name": "stdout",
     "output_type": "stream",
     "text": [
      "<class 'pandas.core.frame.DataFrame'>\n",
      "RangeIndex: 23490 entries, 0 to 23489\n",
      "Data columns (total 13 columns):\n",
      " #   Column                Non-Null Count  Dtype  \n",
      "---  ------                --------------  -----  \n",
      " 0   employee_id           23490 non-null  int64  \n",
      " 1   department            23490 non-null  object \n",
      " 2   region                23490 non-null  object \n",
      " 3   education             22456 non-null  object \n",
      " 4   gender                23490 non-null  object \n",
      " 5   recruitment_channel   23490 non-null  object \n",
      " 6   no_of_trainings       23490 non-null  int64  \n",
      " 7   age                   23490 non-null  int64  \n",
      " 8   previous_year_rating  21678 non-null  float64\n",
      " 9   length_of_service     23490 non-null  int64  \n",
      " 10  KPIs_met >80%         23490 non-null  int64  \n",
      " 11  awards_won?           23490 non-null  int64  \n",
      " 12  avg_training_score    23490 non-null  int64  \n",
      "dtypes: float64(1), int64(7), object(5)\n",
      "memory usage: 2.3+ MB\n"
     ]
    }
   ],
   "source": [
    "data_test = pd.read_csv('test.csv')\n",
    "data_test.info()"
   ]
  },
  {
   "cell_type": "code",
   "execution_count": 25,
   "id": "547749bc",
   "metadata": {},
   "outputs": [],
   "source": [
    "data_test = preprocessing_pipeline(data_test, False) ## Null values in education is eliminated because of get dummies"
   ]
  },
  {
   "cell_type": "code",
   "execution_count": 26,
   "id": "512a11fb",
   "metadata": {},
   "outputs": [
    {
     "name": "stdout",
     "output_type": "stream",
     "text": [
      "<class 'pandas.core.frame.DataFrame'>\n",
      "RangeIndex: 23490 entries, 0 to 23489\n",
      "Data columns (total 14 columns):\n",
      " #   Column                Non-Null Count  Dtype  \n",
      "---  ------                --------------  -----  \n",
      " 0   no_of_trainings       23490 non-null  int64  \n",
      " 1   age                   23490 non-null  int64  \n",
      " 2   previous_year_rating  23490 non-null  float64\n",
      " 3   length_of_service     23490 non-null  int64  \n",
      " 4   KPIs_met >80%         23490 non-null  int64  \n",
      " 5   awards_won?           23490 non-null  int64  \n",
      " 6   avg_training_score    23490 non-null  int64  \n",
      " 7   Below Secondary       23490 non-null  uint8  \n",
      " 8   Master's & above      23490 non-null  uint8  \n",
      " 9   m                     23490 non-null  uint8  \n",
      " 10  referred              23490 non-null  uint8  \n",
      " 11  sourcing              23490 non-null  uint8  \n",
      " 12  department_cat        23490 non-null  int8   \n",
      " 13  region_cat            23490 non-null  int8   \n",
      "dtypes: float64(1), int64(6), int8(2), uint8(5)\n",
      "memory usage: 1.4 MB\n"
     ]
    }
   ],
   "source": [
    "data_test['previous_year_rating'].fillna(data_test['previous_year_rating'].mode()[0], inplace=True)\n",
    "data_test.info()"
   ]
  },
  {
   "cell_type": "code",
   "execution_count": 27,
   "id": "b340045d",
   "metadata": {},
   "outputs": [
    {
     "name": "stderr",
     "output_type": "stream",
     "text": [
      "/Users/muhammadwaseem/miniconda3/envs/spyder/lib/python3.10/site-packages/sklearn/base.py:443: UserWarning: X has feature names, but StandardScaler was fitted without feature names\n"
     ]
    }
   ],
   "source": [
    "data_test = sc.transform(data_test)"
   ]
  },
  {
   "cell_type": "code",
   "execution_count": 28,
   "id": "61752dd9",
   "metadata": {},
   "outputs": [
    {
     "data": {
      "text/plain": [
       "(23490, 14)"
      ]
     },
     "execution_count": 28,
     "metadata": {},
     "output_type": "execute_result"
    }
   ],
   "source": [
    "data_test.shape"
   ]
  },
  {
   "cell_type": "code",
   "execution_count": 29,
   "id": "8dd93d54",
   "metadata": {},
   "outputs": [],
   "source": [
    "pred = model.predict(data_test)"
   ]
  },
  {
   "cell_type": "code",
   "execution_count": 30,
   "id": "ce38b169",
   "metadata": {},
   "outputs": [
    {
     "data": {
      "text/plain": [
       "array([23271,   219])"
      ]
     },
     "execution_count": 30,
     "metadata": {},
     "output_type": "execute_result"
    }
   ],
   "source": [
    "np.bincount(pred)"
   ]
  }
 ],
 "metadata": {
  "kernelspec": {
   "display_name": "Python 3",
   "language": "python",
   "name": "python3"
  },
  "language_info": {
   "codemirror_mode": {
    "name": "ipython",
    "version": 3
   },
   "file_extension": ".py",
   "mimetype": "text/x-python",
   "name": "python",
   "nbconvert_exporter": "python",
   "pygments_lexer": "ipython3",
   "version": "3.10.8 (main, Oct 21 2022, 22:22:30) [Clang 14.0.0 (clang-1400.0.29.202)]"
  },
  "vscode": {
   "interpreter": {
    "hash": "b0fa6594d8f4cbf19f97940f81e996739fb7646882a419484c72d19e05852a7e"
   }
  }
 },
 "nbformat": 4,
 "nbformat_minor": 5
}
