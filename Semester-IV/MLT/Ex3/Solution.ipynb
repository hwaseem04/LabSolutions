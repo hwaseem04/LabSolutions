{
 "cells": [
  {
   "cell_type": "markdown",
   "id": "f6002bcf",
   "metadata": {},
   "source": [
    "# Part 1 (Decision Trees)"
   ]
  },
  {
   "cell_type": "code",
   "execution_count": 1,
   "id": "241fa7d0",
   "metadata": {},
   "outputs": [],
   "source": [
    "import pandas as pd\n",
    "import numpy as np\n",
    "from sklearn.model_selection import train_test_split"
   ]
  },
  {
   "cell_type": "markdown",
   "id": "b0b3e556",
   "metadata": {},
   "source": [
    "### Entropy Calculation"
   ]
  },
  {
   "cell_type": "code",
   "execution_count": 2,
   "id": "2cb61a50",
   "metadata": {},
   "outputs": [],
   "source": [
    "def  entropy(y):\n",
    "    \"\"\"\n",
    "    y - Numpy array for which entropy need to be calculated\n",
    "    \n",
    "    \"\"\"\n",
    "    # No more splits\n",
    "    if (len(y) == 0):\n",
    "        return 0\n",
    "    \n",
    "    p1 = np.sum(y==1)/len(y) # Purchased\n",
    "    p0 = 1 - p1 # Not Purchased\n",
    "    \n",
    "    # If  there exist a pure split, then there exist only one subset (either yes or no). So one probability will be 0.\n",
    "    # If proability is 0, log(0) is not defined. Hence for calculation purpose 0 is returned as the entropy\n",
    "    if p1 == 0 or p0 == 0:\n",
    "        return 0\n",
    "    entropy = - p1 * np.log2(p1) - p0 * np.log2(p0)\n",
    "    \n",
    "    return entropy"
   ]
  },
  {
   "cell_type": "markdown",
   "id": "5854952c",
   "metadata": {},
   "source": [
    "### Gini Index calculation"
   ]
  },
  {
   "cell_type": "code",
   "execution_count": 3,
   "id": "d149b470",
   "metadata": {},
   "outputs": [],
   "source": [
    "def  GI(y):\n",
    "    \"\"\"\n",
    "    y - Numpy array for which Gini impurity need to be calculated\n",
    "    \n",
    "    \"\"\"\n",
    "    # No more splits\n",
    "    if (len(y) == 0):\n",
    "        return 0\n",
    "    \n",
    "    p1 = np.sum(y==1)/len(y) # Purchased\n",
    "    p0 = 1 - p1 # Not Purchased\n",
    "    P = p1**2 + p0**2\n",
    "\n",
    "    GI = 1 - P\n",
    "    \n",
    "    return GI"
   ]
  },
  {
   "cell_type": "markdown",
   "id": "555f82ac",
   "metadata": {},
   "source": [
    "### Building decision tree\n",
    "- **Stopping criteria**\n",
    "    1. When there is no impurity at all split.\n",
    "    1. When reaching a maximum specified depth. \n",
    "    1. When improvement in purity score is below certain threshold.\n",
    "    1. When Number of examples in a node is below a threshold.\n",
    "- I will be using **1 & 2** "
   ]
  },
  {
   "cell_type": "code",
   "execution_count": 4,
   "id": "b056f27b",
   "metadata": {},
   "outputs": [],
   "source": [
    "class Node():\n",
    "    def __init__(self, threshold=None, feature_idx=None, children=None, left=None, right=None, value=None):\n",
    "        \n",
    "        # Decision Node\n",
    "        #self.parent = parent\n",
    "        self.threshold = threshold\n",
    "        self.feature_index = feature_idx\n",
    "        self.left = left\n",
    "        self.right = right\n",
    "        \n",
    "        # Leaf Node\n",
    "        self.value = value # Majority label"
   ]
  },
  {
   "cell_type": "code",
   "execution_count": 5,
   "id": "41eb14b6",
   "metadata": {},
   "outputs": [],
   "source": [
    "class DecisionTree():\n",
    "    def __init__(self, data, n, max_depth, cont_indx=[], criteria=GI):\n",
    "        self.n = n\n",
    "        self.max_depth = max_depth\n",
    "        self.cont_indx = cont_indx\n",
    "        self.criteria=criteria\n",
    "        self.root = None\n",
    "        \n",
    "    \n",
    "    def information_gain(self, Data, feature, thresh=1):\n",
    "        \"\"\"\n",
    "        Data: matrix of  Remaininf data to be splitted with 3 features and labels\n",
    "        feature: index of features based on which split is done:  possible values 0,1,2\n",
    "\n",
    "        \"\"\"\n",
    "        if len(Data) == 0:\n",
    "            return None\n",
    "\n",
    "        # greater values are at left node\n",
    "        LeftNode_index  = np.where(Data[: , feature] >= thresh)[0] # Using greater than equal for generality\n",
    "        RightNode_index = np.where(Data[: , feature] < thresh)[0] # Same reason for usage of less than\n",
    "\n",
    "\n",
    "        LeftNode = Data[LeftNode_index, -1] # Empty data frame if no examples on right node\n",
    "        RightNode = Data[RightNode_index, -1] # Empty data frame if no examples on right node\n",
    "\n",
    "        # Main node entropy\n",
    "        RootNode = Data[:, -1]\n",
    "        E_root = self.criteria(RootNode)\n",
    "\n",
    "        # Calculate entropy for left and right nodes.\n",
    "        # Below subsets may/may'nt contain both edible and non edible mushrooms\n",
    "        E_L = self.criteria(LeftNode) # feature value = 1\n",
    "        E_R = self.criteria(RightNode) # feature value = 0\n",
    "\n",
    "        # Weights, i.e subset proportion for left and right nodes\n",
    "        w_L = len(LeftNode)/len(Data)\n",
    "        w_R = len(RightNode)/len(Data)\n",
    "\n",
    "        # Information gain\n",
    "#         print(f\"Root: {E_root:.3f}, W_L :{w_L:.3f}, E_L: {E_L:.3f}, w_R: {w_R:.3f}, E_R: {E_R:.3f}\")\n",
    "        IG = E_root - (w_L * E_L) - (w_R * E_R)\n",
    "\n",
    "        return IG, LeftNode_index, RightNode_index\n",
    "    \n",
    "    def get_threshold(self, data, feature): \n",
    "        \"\"\"\n",
    "        data: numpy matrix (2-d array)\n",
    "        feature: index of feature for which gini table is to be calculated\n",
    "        \n",
    "        ---\n",
    "        Creation of weighted gini table\n",
    "        ---\n",
    "        returns list containing:\n",
    "        - threshold\n",
    "        - information gain with that threshold\n",
    "        \"\"\"\n",
    "        col_values = data[:, feature].copy()\n",
    "\n",
    "        col_values = np.unique(col_values)\n",
    "        col_values.sort()\n",
    "\n",
    "        entries = (col_values + np.concatenate([col_values[1:], np.array([0])])) / 2 \n",
    "\n",
    "        Max_entry = [entries[0], self.information_gain(data, feature, entries[0])[0]]\n",
    "    \n",
    "        # We have to find threshold with maximum IG\n",
    "        for i in entries[1:]:\n",
    "            if self.information_gain(data, feature, i)[0] > Max_entry[1]:\n",
    "                Max_entry = [i, self.information_gain(data, feature, i)[0]] #\n",
    "        return Max_entry\n",
    "    \n",
    "    def get_best_split(self, data, n):\n",
    "        \"\"\"\n",
    "        data -> Elements in the current root node\n",
    "        n -> Number of features in dataframe\n",
    "\n",
    "        returns list containing: \n",
    "        Best split's Information gain value\n",
    "        Best split's left node index\n",
    "        Best split's right node index\n",
    "        Best split feature number\n",
    "\n",
    "        \"\"\"\n",
    "        Max_IG = [-1,[],[], None] # information gain, leftNodes IDx, RightNodes Idx,\n",
    "                                            # Feature with max IG\n",
    "\n",
    "        for i in range(self.n):\n",
    "            if i in self.cont_indx:\n",
    "                thresh = self.get_threshold(data, i)[0]\n",
    "            else:\n",
    "                thresh=1\n",
    "\n",
    "            IG, leftNode_idx, rightNode_idx = self.information_gain(data, i, thresh) \n",
    "            if IG > Max_IG[0]:\n",
    "                Max_IG = [IG, leftNode_idx, rightNode_idx, i, thresh]\n",
    "        return Max_IG\n",
    "    \n",
    "    def calc_leaf_majority(self, data):\n",
    "        values = data[:, -1]\n",
    "#         print(np.argmax(np.bincount(values)))\n",
    "        return np.argmax(np.bincount(values))\n",
    "    \n",
    "    def build_tree(self, data, current_depth):\n",
    "        #print(current_depth)\n",
    "        if current_depth <= self.max_depth:\n",
    "            ig, leftNode_idx, rightNode_idx, feature, thresh = self.get_best_split(data, self.n)\n",
    "#             print(ig, leftNode_idx.shape, rightNode_idx.shape, \"data:\", data.shape, f\"Bincount-left: {np.bincount(data[leftNode_idx, -1])}\", f\"Bincount-right: {np.bincount(data[rightNode_idx, -1])}\")\n",
    "#             print(\"-----------------------------------------------------\")\n",
    "            if ig > 0: # cannot have it as >= 0, because empty subset is possible\n",
    "                leftNodeData = data[leftNode_idx, :]\n",
    "                rightNodeData = data[rightNode_idx, :]\n",
    "                \n",
    "                # Decision Node\n",
    "                node = Node(threshold=thresh)\n",
    "                node.left = self.build_tree(leftNodeData, current_depth+1) \n",
    "                node.right = self.build_tree(rightNodeData,current_depth+1) \n",
    "                node.feature_index=feature\n",
    "                return node\n",
    "        else:\n",
    "            print(\"Depth reached\")\n",
    "            \n",
    "        # Leaf node\n",
    "        node = Node()\n",
    "        node.value = self.calc_leaf_majority(data)\n",
    "        return node\n",
    "        \n",
    "    def predict(self, data):\n",
    "        prediction = []\n",
    "        for i in data:\n",
    "            prediction.append(self.make_prediction(self.root, i))\n",
    "        return np.array(prediction)\n",
    "        \n",
    "        \n",
    "    def make_prediction(self, tree, Input):\n",
    "        if tree.value != None:\n",
    "#             print(\"none\")\n",
    "            return tree.value\n",
    "        else:\n",
    "#             print(tree.feature_index, tree.threshold, Input[tree.feature_index])\n",
    "            if  Input[tree.feature_index] >= tree.threshold:\n",
    "#                 print(\"left\")\n",
    "                prediction = self.make_prediction(tree.left, Input)\n",
    "            else:\n",
    "#                 print(\"right\")\n",
    "                prediction = self.make_prediction(tree.right, Input)\n",
    "            return prediction\n",
    "    # inorder traversal\n",
    "    def display(self,tree):\n",
    "        if tree.value != None:\n",
    "            #print(f\"\\t\\t\\tleaf value: {tree.value}\")\n",
    "            return\n",
    "        self.display(tree.left)\n",
    "        print(f\"feature: {tree.feature_index}, threshold: {tree.threshold}\")\n",
    "        self.display(tree.right)\n",
    "        return\n",
    "        \n",
    "        "
   ]
  },
  {
   "cell_type": "code",
   "execution_count": 2,
   "id": "f37aa984",
   "metadata": {},
   "outputs": [],
   "source": [
    "data = pd.read_csv('classification.csv')\n",
    "# data.info()\n",
    "X_train, X_test, y_train, y_test = train_test_split(data.iloc[:,:-1].values, data.iloc[:,-1].values, \n",
    "                                                   train_size=0.8, random_state=1)"
   ]
  },
  {
   "cell_type": "code",
   "execution_count": 6,
   "id": "1f6a251c",
   "metadata": {},
   "outputs": [
    {
     "data": {
      "text/plain": [
       "((320, 2), (320,))"
      ]
     },
     "execution_count": 6,
     "metadata": {},
     "output_type": "execute_result"
    }
   ],
   "source": [
    "X_train.shape, y_train.shape"
   ]
  },
  {
   "cell_type": "code",
   "execution_count": 7,
   "id": "206fb1a8",
   "metadata": {},
   "outputs": [],
   "source": [
    "from sklearn.tree import DecisionTreeClassifier\n",
    "dt = DecisionTreeClassifier()\n",
    "model = dt.fit(X_train, y_train)"
   ]
  },
  {
   "cell_type": "code",
   "execution_count": 8,
   "id": "fbea7d38",
   "metadata": {},
   "outputs": [
    {
     "data": {
      "text/plain": [
       "0.8125"
      ]
     },
     "execution_count": 8,
     "metadata": {},
     "output_type": "execute_result"
    }
   ],
   "source": [
    "(model.predict(X_test) == y_test).mean()"
   ]
  },
  {
   "cell_type": "markdown",
   "id": "7fc09310",
   "metadata": {},
   "source": [
    "### Q1 (Gini Index values)\n",
    "- Note: Increasing max depth might increases accuracy"
   ]
  },
  {
   "cell_type": "code",
   "execution_count": 7,
   "id": "e77ff140",
   "metadata": {},
   "outputs": [
    {
     "name": "stdout",
     "output_type": "stream",
     "text": [
      "[42.5, 0.1905972635392829]\n",
      "[89500.0, 0.13182194055944052]\n"
     ]
    }
   ],
   "source": [
    "Train = np.concatenate([X_train, y_train.reshape(-1,1)], axis=1)\n",
    "classifier1 = DecisionTree(Train, n=2, max_depth=3, cont_indx=[0,1], criteria=GI)\n",
    "print(classifier1.get_threshold(data.values,0))\n",
    "print(classifier1.get_threshold(data.values,1))"
   ]
  },
  {
   "cell_type": "markdown",
   "id": "33db0796",
   "metadata": {},
   "source": [
    "### Q2 (Decision tree classifier)\n",
    "- Compute mode while prediction, if the DT weren't able to purely split the data samples at leaf node"
   ]
  },
  {
   "cell_type": "markdown",
   "id": "95ba9d86",
   "metadata": {},
   "source": [
    "##### Dataset 1"
   ]
  },
  {
   "cell_type": "code",
   "execution_count": 8,
   "id": "a31e2ac6",
   "metadata": {},
   "outputs": [
    {
     "name": "stdout",
     "output_type": "stream",
     "text": [
      "Depth reached\n",
      "Depth reached\n",
      "Depth reached\n",
      "Depth reached\n",
      "Depth reached\n",
      "Depth reached\n",
      "Depth reached\n",
      "Depth reached\n",
      "Depth reached\n",
      "Depth reached\n"
     ]
    }
   ],
   "source": [
    "classifier1.root = classifier1.build_tree(Train,current_depth=0)"
   ]
  },
  {
   "cell_type": "code",
   "execution_count": 9,
   "id": "8d3f6f4a",
   "metadata": {},
   "outputs": [
    {
     "name": "stdout",
     "output_type": "stream",
     "text": [
      "feature: 1, threshold: 48000.0\n",
      "feature: 1, threshold: 41500.0\n",
      "feature: 0, threshold: 46.5\n",
      "feature: 1, threshold: 85000.0\n",
      "feature: 1, threshold: 52000.0\n",
      "feature: 1, threshold: 22500.0\n",
      "feature: 0, threshold: 44.5\n",
      "feature: 1, threshold: 118500.0\n",
      "feature: 1, threshold: 112500.0\n",
      "feature: 1, threshold: 90500.0\n",
      "feature: 1, threshold: 83500.0\n",
      "feature: 0, threshold: 36.5\n"
     ]
    }
   ],
   "source": [
    "# Inorder traversal\n",
    "classifier1.display(classifier1.root)"
   ]
  },
  {
   "cell_type": "code",
   "execution_count": 10,
   "id": "b02f429f",
   "metadata": {},
   "outputs": [
    {
     "data": {
      "text/plain": [
       "0.8375"
      ]
     },
     "execution_count": 10,
     "metadata": {},
     "output_type": "execute_result"
    }
   ],
   "source": [
    "predictions = classifier1.predict(X_test)\n",
    "(y_test == predictions).mean()"
   ]
  },
  {
   "cell_type": "markdown",
   "id": "888025f8",
   "metadata": {},
   "source": [
    "##### Dataset 2"
   ]
  },
  {
   "cell_type": "code",
   "execution_count": 11,
   "id": "dbaa4569",
   "metadata": {},
   "outputs": [],
   "source": [
    "data2 = np.load(\"data.npy\")"
   ]
  },
  {
   "cell_type": "code",
   "execution_count": 12,
   "id": "7de7907c",
   "metadata": {},
   "outputs": [],
   "source": [
    "# X_train, X_test, y_train, y_test = train_test_split(data2[:, :-1], data2[:, -1], train_size=0.8, random_state=1)\n",
    "# X_train.shape, y_train.shape"
   ]
  },
  {
   "cell_type": "code",
   "execution_count": 13,
   "id": "a9571bf1",
   "metadata": {},
   "outputs": [
    {
     "name": "stdout",
     "output_type": "stream",
     "text": [
      "feature: 2, threshold: 1\n",
      "feature: 0, threshold: 1\n",
      "feature: 1, threshold: 1\n",
      "feature: 0, threshold: 1\n"
     ]
    }
   ],
   "source": [
    "# Train = np.concatenate([X_train, y_train.reshape(-1,1)], axis=1)\n",
    "Dmodel2 = DecisionTree(data2, n=3, max_depth=5, criteria=entropy)\n",
    "Dmodel2.root = Dmodel2.build_tree(data2,current_depth=0)\n",
    "Dmodel2.display(Dmodel2.root)"
   ]
  },
  {
   "cell_type": "markdown",
   "id": "7b72fbff",
   "metadata": {},
   "source": [
    "#### Toy test data"
   ]
  },
  {
   "cell_type": "code",
   "execution_count": 14,
   "id": "c51cbd7d",
   "metadata": {},
   "outputs": [],
   "source": [
    "X_test = np.array([[1,1,1],[1,0,1],[1,0,0],[1,0,0],[1,1,1],[0,1,1],[0,0,0],[1,0,1],[0,1,0],[1,0,0]])\n",
    "y_test = np.array([1,1,0,0,1,0,0,1,1,0])"
   ]
  },
  {
   "cell_type": "code",
   "execution_count": 15,
   "id": "5a319ded",
   "metadata": {},
   "outputs": [
    {
     "data": {
      "text/plain": [
       "0.9"
      ]
     },
     "execution_count": 15,
     "metadata": {},
     "output_type": "execute_result"
    }
   ],
   "source": [
    "(Dmodel2.predict(X_test) == y_test).mean()"
   ]
  },
  {
   "cell_type": "code",
   "execution_count": 16,
   "id": "c6d7ab30",
   "metadata": {},
   "outputs": [
    {
     "data": {
      "text/plain": [
       "array([1, 1, 0, 0, 1, 1, 0, 1, 1, 0])"
      ]
     },
     "execution_count": 16,
     "metadata": {},
     "output_type": "execute_result"
    }
   ],
   "source": [
    "(Dmodel2.predict(X_test))"
   ]
  },
  {
   "cell_type": "code",
   "execution_count": 17,
   "id": "7052119c",
   "metadata": {},
   "outputs": [
    {
     "data": {
      "text/plain": [
       "array([1, 1, 0, 0, 1, 0, 0, 1, 1, 0])"
      ]
     },
     "execution_count": 17,
     "metadata": {},
     "output_type": "execute_result"
    }
   ],
   "source": [
    "y_test"
   ]
  },
  {
   "cell_type": "markdown",
   "id": "dd9fdcfa",
   "metadata": {},
   "source": [
    "# Part 2 (Gradient Descent for Linear regression from scratch)"
   ]
  },
  {
   "cell_type": "code",
   "execution_count": 188,
   "id": "1e41e3f1",
   "metadata": {},
   "outputs": [],
   "source": [
    "import matplotlib.pyplot as plt\n",
    "from sklearn.metrics import mean_squared_error, mean_absolute_error, r2_score"
   ]
  },
  {
   "cell_type": "code",
   "execution_count": 219,
   "id": "837fcd14",
   "metadata": {},
   "outputs": [],
   "source": [
    "def generate_data():\n",
    "    noise = np.random.normal(0,70, (1000)) *  np.random.uniform(-10,10,1)\n",
    "    x = np.arange(1000)\n",
    "    # y = mx + c + noise\n",
    "    y =  x * 0.8 * np.random.rand() + 0 + noise \n",
    "    x = x.reshape(-1,1)\n",
    "    y = y.reshape(-1,1)\n",
    "    data = np.concatenate([x,y], axis=1)\n",
    "    return data"
   ]
  },
  {
   "cell_type": "code",
   "execution_count": 220,
   "id": "a213fbae",
   "metadata": {},
   "outputs": [
    {
     "data": {
      "text/plain": [
       "(1000, 2)"
      ]
     },
     "execution_count": 220,
     "metadata": {},
     "output_type": "execute_result"
    }
   ],
   "source": [
    "np.random.seed(1)\n",
    "data = generate_data()\n",
    "data.shape"
   ]
  },
  {
   "cell_type": "code",
   "execution_count": 221,
   "id": "f084812e",
   "metadata": {},
   "outputs": [
    {
     "data": {
      "text/plain": [
       "[<matplotlib.lines.Line2D at 0x125976400>]"
      ]
     },
     "execution_count": 221,
     "metadata": {},
     "output_type": "execute_result"
    },
    {
     "data": {
      "image/png": "[encoded data removed]",
      "text/plain": [
       "<Figure size 640x480 with 1 Axes>"
      ]
     },
     "metadata": {},
     "output_type": "display_data"
    }
   ],
   "source": [
    "plt.plot(data[:, 0], data[:, 1], linestyle=\"\", marker='.')"
   ]
  },
  {
   "cell_type": "markdown",
   "id": "560d7453",
   "metadata": {},
   "source": [
    "## Split"
   ]
  },
  {
   "cell_type": "code",
   "execution_count": 222,
   "id": "bc08eab3",
   "metadata": {},
   "outputs": [],
   "source": [
    "def split(data, seed):\n",
    "    np.random.seed(seed)\n",
    "    np.random.shuffle(data)\n",
    "    train_size = int(0.8 * len(data))\n",
    "    train = data[ : train_size, : ]\n",
    "    test = data[train_size: , :]\n",
    "    return train[:, 0], test[:,0] ,train[:, 1], test[:,1]"
   ]
  },
  {
   "cell_type": "code",
   "execution_count": 223,
   "id": "6a053184",
   "metadata": {},
   "outputs": [],
   "source": [
    "train_X, test_X, train_y, test_y = split(data, 42)"
   ]
  },
  {
   "cell_type": "code",
   "execution_count": 224,
   "id": "eb3814f0",
   "metadata": {},
   "outputs": [
    {
     "data": {
      "text/plain": [
       "((800,), (800,))"
      ]
     },
     "execution_count": 224,
     "metadata": {},
     "output_type": "execute_result"
    }
   ],
   "source": [
    "train_X.shape, train_y.shape"
   ]
  },
  {
   "cell_type": "code",
   "execution_count": 225,
   "id": "7d160f40",
   "metadata": {},
   "outputs": [
    {
     "data": {
      "text/plain": [
       "((200,), (200,))"
      ]
     },
     "execution_count": 225,
     "metadata": {},
     "output_type": "execute_result"
    }
   ],
   "source": [
    "test_X.shape, test_y.shape"
   ]
  },
  {
   "cell_type": "markdown",
   "id": "7514c05d",
   "metadata": {},
   "source": [
    "## Regression model"
   ]
  },
  {
   "cell_type": "markdown",
   "id": "9df5f8d8",
   "metadata": {},
   "source": [
    "### From scratch"
   ]
  },
  {
   "cell_type": "code",
   "execution_count": 226,
   "id": "75e803a6",
   "metadata": {},
   "outputs": [],
   "source": [
    "class Model:\n",
    "    def __init__(self, in_features, alpha):\n",
    "        self.w = np.random.rand(in_features) \n",
    "        self.b = np.random.rand(1) \n",
    "        self.alpha = alpha\n",
    "    def forward(self, x):\n",
    "        result =  x * (self.w) + self.b \n",
    "        return result\n",
    "    \n",
    "    def update(self, x, y):\n",
    "        pred = self.forward(x)\n",
    "#         print(pred[:5], y[:5])\n",
    "        dJ_dw = (-np.sum((y - pred)*(x)))/len(x)\n",
    "        print(f'Gradient: {dJ_dw}')\n",
    "        dJ_db = (-np.sum((y - pred)))/len(x)\n",
    "        \n",
    "        print(f'w before: {self.w}')\n",
    "        self.w = (self.w - self.alpha * dJ_dw)\n",
    "        print(f'w after: {self.w}')\n",
    "        print(f'b before: {self.b}')\n",
    "        self.b = (self.b - self.alpha * dJ_db)\n",
    "        print(f'b after: {self.b}')\n",
    "#         print()\n",
    "\n"
   ]
  },
  {
   "cell_type": "code",
   "execution_count": 227,
   "id": "bc65697e",
   "metadata": {},
   "outputs": [],
   "source": [
    "def error(pred, y):\n",
    "    return (np.mean((pred - y) ** 2))"
   ]
  },
  {
   "cell_type": "code",
   "execution_count": 228,
   "id": "156c28de",
   "metadata": {},
   "outputs": [],
   "source": [
    "def train(model, epoch, x, y):\n",
    "    for i in range(epoch):\n",
    "        pred = model.forward(x)\n",
    "        cost = error(pred, y)\n",
    "        model.update(x,y)\n",
    "        print(f'Epoch: {i+1}, loss: {cost}')\n",
    "        print()"
   ]
  },
  {
   "cell_type": "code",
   "execution_count": 229,
   "id": "ae508ab0",
   "metadata": {},
   "outputs": [],
   "source": [
    "from sklearn.preprocessing import StandardScaler\n",
    "sc = StandardScaler()\n",
    "X_train = sc.fit_transform(train_X.reshape(-1,1))"
   ]
  },
  {
   "cell_type": "code",
   "execution_count": 230,
   "id": "cf0f3ae9",
   "metadata": {},
   "outputs": [
    {
     "name": "stdout",
     "output_type": "stream",
     "text": [
      "Gradient: -117.00861199222837\n",
      "w before: [0.417022]\n",
      "w after: [105.7247728]\n",
      "b before: [0.72032449]\n",
      "b after: [166.05088607]\n",
      "Epoch: 1, loss: 70793.59276818964\n",
      "\n",
      "Gradient: -11.700861199222826\n",
      "w before: [105.7247728]\n",
      "w after: [116.25554788]\n",
      "b before: [166.05088607]\n",
      "b after: [182.58394223]\n",
      "Epoch: 2, loss: 23831.02758515295\n",
      "\n",
      "Gradient: -1.1700861199222874\n",
      "w before: [116.25554788]\n",
      "w after: [117.30862538]\n",
      "b before: [182.58394223]\n",
      "b after: [184.23724784]\n",
      "Epoch: 3, loss: 23361.401933322588\n",
      "\n",
      "Gradient: -0.11700861199223155\n",
      "w before: [117.30862538]\n",
      "w after: [117.41393314]\n",
      "b before: [184.23724784]\n",
      "b after: [184.4025784]\n",
      "Epoch: 4, loss: 23356.705676804282\n",
      "\n",
      "Gradient: -0.011700861199229848\n",
      "w before: [117.41393314]\n",
      "w after: [117.42446391]\n",
      "b before: [184.4025784]\n",
      "b after: [184.41911146]\n",
      "Epoch: 5, loss: 23356.658714239093\n",
      "\n",
      "Gradient: -0.0011700861199257417\n",
      "w before: [117.42446391]\n",
      "w after: [117.42551699]\n",
      "b before: [184.41911146]\n",
      "b after: [184.42076477]\n",
      "Epoch: 6, loss: 23356.658244613445\n",
      "\n"
     ]
    }
   ],
   "source": [
    "np.random.seed(1)\n",
    "model = Model(1, 0.9)\n",
    "train(model, 6, X_train.reshape(-1), train_y)"
   ]
  },
  {
   "cell_type": "code",
   "execution_count": null,
   "id": "f5cb4f34",
   "metadata": {},
   "outputs": [],
   "source": []
  },
  {
   "cell_type": "markdown",
   "id": "6bbdff07",
   "metadata": {},
   "source": [
    "### Evaluation"
   ]
  },
  {
   "cell_type": "code",
   "execution_count": 231,
   "id": "69d862c9",
   "metadata": {},
   "outputs": [],
   "source": [
    "X_test = sc.transform(test_X.reshape(-1,1)).reshape(-1)"
   ]
  },
  {
   "cell_type": "code",
   "execution_count": 232,
   "id": "1bcf53be",
   "metadata": {},
   "outputs": [],
   "source": [
    "def visual(x, y, pred):\n",
    "    plt.plot(x, y, linestyle=\"\", c='r', marker='.')\n",
    "    plt.plot(x, pred, linestyle=\"-\", c='g')\n",
    "    plt.show()"
   ]
  },
  {
   "cell_type": "code",
   "execution_count": 233,
   "id": "226e348c",
   "metadata": {},
   "outputs": [
    {
     "name": "stdout",
     "output_type": "stream",
     "text": [
      "r2 score: 0.30130439543022725\n",
      "MSE: 27251.584981741198\n",
      "MAE: 127.71452088317612\n"
     ]
    }
   ],
   "source": [
    "predict1 = model.forward(X_test)\n",
    "print(f'r2 score: {r2_score(y_true=test_y, y_pred=predict1)}')\n",
    "print(f'MSE: {mean_squared_error(predict1, test_y)}')\n",
    "print(f'MAE: {mean_absolute_error(predict1, test_y)}')"
   ]
  },
  {
   "cell_type": "code",
   "execution_count": 234,
   "id": "632e6f77",
   "metadata": {},
   "outputs": [
    {
     "data": {
      "image/png": "[encoded data removed]",
      "text/plain": [
       "<Figure size 640x480 with 1 Axes>"
      ]
     },
     "metadata": {},
     "output_type": "display_data"
    }
   ],
   "source": [
    "visual(X_test, test_y, predict1)"
   ]
  },
  {
   "cell_type": "markdown",
   "id": "07745a16",
   "metadata": {},
   "source": [
    "## Sklearn model"
   ]
  },
  {
   "cell_type": "code",
   "execution_count": 235,
   "id": "f0a8fd8e",
   "metadata": {},
   "outputs": [],
   "source": [
    "from sklearn.linear_model import LinearRegression"
   ]
  },
  {
   "cell_type": "code",
   "execution_count": 236,
   "id": "0e7b62df",
   "metadata": {},
   "outputs": [],
   "source": [
    "reg = LinearRegression()\n",
    "model2 = reg.fit(train_X.reshape(-1,1), train_y)"
   ]
  },
  {
   "cell_type": "code",
   "execution_count": 237,
   "id": "577201c4",
   "metadata": {},
   "outputs": [
    {
     "name": "stdout",
     "output_type": "stream",
     "text": [
      "r2 score: 0.30130472584498447\n",
      "MSE: 27251.572094404026\n",
      "MAE: 127.71450470056554\n"
     ]
    }
   ],
   "source": [
    "predict2 = model2.predict(test_X.reshape(-1,1))\n",
    "print(f'r2 score: {r2_score( y_true=test_y, y_pred=predict2)}')\n",
    "print(f'MSE: {mean_squared_error(predict2, test_y)}')\n",
    "print(f'MAE: {mean_absolute_error(predict2, test_y)}')"
   ]
  },
  {
   "cell_type": "code",
   "execution_count": 238,
   "id": "4151b6a3",
   "metadata": {},
   "outputs": [
    {
     "data": {
      "image/png": "[encoded data removed]",
      "text/plain": [
       "<Figure size 640x480 with 1 Axes>"
      ]
     },
     "metadata": {},
     "output_type": "display_data"
    }
   ],
   "source": [
    "visual(test_X, test_y, predict2)"
   ]
  },
  {
   "cell_type": "markdown",
   "id": "4065f136",
   "metadata": {},
   "source": [
    "### Observations\n",
    "- Both regression line are same. Reason being, data is not that complicated hence even my from `scratch model` performs equally well to sklearn's model."
   ]
  },
  {
   "cell_type": "markdown",
   "id": "27327821",
   "metadata": {},
   "source": []
  }
 ],
 "metadata": {
  "kernelspec": {
   "display_name": "Python 3 (ipykernel)",
   "language": "python",
   "name": "python3"
  },
  "language_info": {
   "codemirror_mode": {
    "name": "ipython",
    "version": 3
   },
   "file_extension": ".py",
   "mimetype": "text/x-python",
   "name": "python",
   "nbconvert_exporter": "python",
   "pygments_lexer": "ipython3",
   "version": "3.9.15"
  },
  "vscode": {
   "interpreter": {
    "hash": "c63909d350ce8d9b87a1de9763e74d04c16b161f418e7c161ffd7aa329df7504"
   }
  }
 },
 "nbformat": 4,
 "nbformat_minor": 5
}
