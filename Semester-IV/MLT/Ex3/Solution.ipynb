{
 "cells": [
  {
   "cell_type": "markdown",
   "id": "f6002bcf",
   "metadata": {},
   "source": [
    "# Part 1 (Decision Trees)"
   ]
  },
  {
   "cell_type": "code",
   "execution_count": 1,
   "id": "241fa7d0",
   "metadata": {},
   "outputs": [],
   "source": [
    "import pandas as pd\n",
    "import numpy as np\n",
    "from sklearn.model_selection import train_test_split"
   ]
  },
  {
   "cell_type": "markdown",
   "id": "b0b3e556",
   "metadata": {},
   "source": [
    "### Entropy Calculation"
   ]
  },
  {
   "cell_type": "code",
   "execution_count": 2,
   "id": "2cb61a50",
   "metadata": {},
   "outputs": [],
   "source": [
    "def  entropy(y):\n",
    "    \"\"\"\n",
    "    y - Numpy array for which entropy need to be calculated\n",
    "    \n",
    "    \"\"\"\n",
    "    # No more splits\n",
    "    if (len(y) == 0):\n",
    "        return 0\n",
    "    \n",
    "    p1 = np.sum(y==1)/len(y) # Purchased\n",
    "    p0 = 1 - p1 # Not Purchased\n",
    "    \n",
    "    # If  there exist a pure split, then there exist only one subset (either yes or no). So one probability will be 0.\n",
    "    # If proability is 0, log(0) is not defined. Hence for calculation purpose 0 is returned as the entropy\n",
    "    if p1 == 0 or p0 == 0:\n",
    "        return 0\n",
    "    entropy = - p1 * np.log2(p1) - p0 * np.log2(p0)\n",
    "    \n",
    "    return entropy"
   ]
  },
  {
   "cell_type": "markdown",
   "id": "5854952c",
   "metadata": {},
   "source": [
    "### Gini Index calculation"
   ]
  },
  {
   "cell_type": "code",
   "execution_count": 3,
   "id": "d149b470",
   "metadata": {},
   "outputs": [],
   "source": [
    "def  GI(y):\n",
    "    \"\"\"\n",
    "    y - Numpy array for which Gini impurity need to be calculated\n",
    "    \n",
    "    \"\"\"\n",
    "    # No more splits\n",
    "    if (len(y) == 0):\n",
    "        return 0\n",
    "    \n",
    "    p1 = np.sum(y==1)/len(y) # Purchased\n",
    "    p0 = 1 - p1 # Not Purchased\n",
    "    P = p1**2 + p0**2\n",
    "\n",
    "    GI = 1 - P\n",
    "    \n",
    "    return GI"
   ]
  },
  {
   "cell_type": "markdown",
   "id": "555f82ac",
   "metadata": {},
   "source": [
    "### Building decision tree\n",
    "- **Stopping criteria**\n",
    "    1. When there is no impurity at all split.\n",
    "    1. When reaching a maximum specified depth. \n",
    "    1. When improvement in purity score is below certain threshold.\n",
    "    1. When Number of examples in a node is below a threshold.\n",
    "- I will be using **1 & 2** "
   ]
  },
  {
   "cell_type": "code",
   "execution_count": 4,
   "id": "b056f27b",
   "metadata": {},
   "outputs": [],
   "source": [
    "class Node():\n",
    "    def __init__(self, threshold=None, feature_idx=None, children=None, left=None, right=None, value=None):\n",
    "        \n",
    "        # Decision Node\n",
    "        #self.parent = parent\n",
    "        self.threshold = threshold\n",
    "        self.feature_index = feature_idx\n",
    "        self.left = left\n",
    "        self.right = right\n",
    "        \n",
    "        # Leaf Node\n",
    "        self.value = value # Majority label"
   ]
  },
  {
   "cell_type": "code",
   "execution_count": 5,
   "id": "41eb14b6",
   "metadata": {},
   "outputs": [],
   "source": [
    "class DecisionTree():\n",
    "    def __init__(self, data, n, max_depth, cont_indx=[], criteria=GI):\n",
    "        self.n = n\n",
    "        self.max_depth = max_depth\n",
    "        self.cont_indx = cont_indx\n",
    "        self.criteria=criteria\n",
    "        self.root = None\n",
    "        \n",
    "    \n",
    "    def information_gain(self, Data, feature, thresh=1):\n",
    "        \"\"\"\n",
    "        Data: matrix of  Remaininf data to be splitted with 3 features and labels\n",
    "        feature: index of features based on which split is done:  possible values 0,1,2\n",
    "\n",
    "        \"\"\"\n",
    "        if len(Data) == 0:\n",
    "            return None\n",
    "\n",
    "        # greater values are at left node\n",
    "        LeftNode_index  = np.where(Data[: , feature] >= thresh)[0] # Using greater than equal for generality\n",
    "        RightNode_index = np.where(Data[: , feature] < thresh)[0] # Same reason for usage of less than\n",
    "\n",
    "\n",
    "        LeftNode = Data[LeftNode_index, -1] # Empty data frame if no examples on right node\n",
    "        RightNode = Data[RightNode_index, -1] # Empty data frame if no examples on right node\n",
    "\n",
    "        # Main node entropy\n",
    "        RootNode = Data[:, -1]\n",
    "        E_root = self.criteria(RootNode)\n",
    "\n",
    "        # Calculate entropy for left and right nodes.\n",
    "        # Below subsets may/may'nt contain both edible and non edible mushrooms\n",
    "        E_L = self.criteria(LeftNode) # feature value = 1\n",
    "        E_R = self.criteria(RightNode) # feature value = 0\n",
    "\n",
    "        # Weights, i.e subset proportion for left and right nodes\n",
    "        w_L = len(LeftNode)/len(Data)\n",
    "        w_R = len(RightNode)/len(Data)\n",
    "\n",
    "        # Information gain\n",
    "#         print(f\"Root: {E_root:.3f}, W_L :{w_L:.3f}, E_L: {E_L:.3f}, w_R: {w_R:.3f}, E_R: {E_R:.3f}\")\n",
    "        IG = E_root - (w_L * E_L) - (w_R * E_R)\n",
    "\n",
    "        return IG, LeftNode_index, RightNode_index\n",
    "    \n",
    "    def get_threshold(self, data, feature): \n",
    "        \"\"\"\n",
    "        data: numpy matrix (2-d array)\n",
    "        feature: index of feature for which gini table is to be calculated\n",
    "        \n",
    "        ---\n",
    "        Creation of weighted gini table\n",
    "        ---\n",
    "        returns list containing:\n",
    "        - threshold\n",
    "        - information gain with that threshold\n",
    "        \"\"\"\n",
    "        col_values = data[:, feature].copy()\n",
    "\n",
    "        col_values = np.unique(col_values)\n",
    "        col_values.sort()\n",
    "\n",
    "        entries = (col_values + np.concatenate([col_values[1:], np.array([0])])) / 2 \n",
    "\n",
    "        Max_entry = [entries[0], self.information_gain(data, feature, entries[0])[0]]\n",
    "    \n",
    "        # We have to find threshold with maximum IG\n",
    "        for i in entries[1:]:\n",
    "            if self.information_gain(data, feature, i)[0] > Max_entry[1]:\n",
    "                Max_entry = [i, self.information_gain(data, feature, i)[0]] #\n",
    "        return Max_entry\n",
    "    \n",
    "    def get_best_split(self, data, n):\n",
    "        \"\"\"\n",
    "        data -> Elements in the current root node\n",
    "        n -> Number of features in dataframe\n",
    "\n",
    "        returns list containing: \n",
    "        Best split's Information gain value\n",
    "        Best split's left node index\n",
    "        Best split's right node index\n",
    "        Best split feature number\n",
    "\n",
    "        \"\"\"\n",
    "        Max_IG = [-1,[],[], None] # information gain, leftNodes IDx, RightNodes Idx,\n",
    "                                            # Feature with max IG\n",
    "\n",
    "        for i in range(self.n):\n",
    "            if i in self.cont_indx:\n",
    "                thresh = self.get_threshold(data, i)[0]\n",
    "            else:\n",
    "                thresh=1\n",
    "\n",
    "            IG, leftNode_idx, rightNode_idx = self.information_gain(data, i, thresh) \n",
    "            if IG > Max_IG[0]:\n",
    "                Max_IG = [IG, leftNode_idx, rightNode_idx, i, thresh]\n",
    "        return Max_IG\n",
    "    \n",
    "    def calc_leaf_majority(self, data):\n",
    "        values = data[:, -1]\n",
    "#         print(np.argmax(np.bincount(values)))\n",
    "        return np.argmax(np.bincount(values))\n",
    "    \n",
    "    def build_tree(self, data, current_depth):\n",
    "        #print(current_depth)\n",
    "        if current_depth <= self.max_depth:\n",
    "            ig, leftNode_idx, rightNode_idx, feature, thresh = self.get_best_split(data, self.n)\n",
    "#             print(ig, leftNode_idx.shape, rightNode_idx.shape, \"data:\", data.shape, f\"Bincount-left: {np.bincount(data[leftNode_idx, -1])}\", f\"Bincount-right: {np.bincount(data[rightNode_idx, -1])}\")\n",
    "#             print(\"-----------------------------------------------------\")\n",
    "            if ig > 0: # cannot have it as >= 0, because empty subset is possible\n",
    "                leftNodeData = data[leftNode_idx, :]\n",
    "                rightNodeData = data[rightNode_idx, :]\n",
    "                \n",
    "                # Decision Node\n",
    "                node = Node(threshold=thresh)\n",
    "                node.left = self.build_tree(leftNodeData, current_depth+1) \n",
    "                node.right = self.build_tree(rightNodeData,current_depth+1) \n",
    "                node.feature_index=feature\n",
    "                return node\n",
    "        else:\n",
    "            print(\"Depth reached\")\n",
    "            \n",
    "        # Leaf node\n",
    "        node = Node()\n",
    "        node.value = self.calc_leaf_majority(data)\n",
    "        return node\n",
    "        \n",
    "    def predict(self, data):\n",
    "        prediction = []\n",
    "        for i in data:\n",
    "            prediction.append(self.make_prediction(self.root, i))\n",
    "        return np.array(prediction)\n",
    "        \n",
    "        \n",
    "    def make_prediction(self, tree, Input):\n",
    "        if tree.value != None:\n",
    "#             print(\"none\")\n",
    "            return tree.value\n",
    "        else:\n",
    "#             print(tree.feature_index, tree.threshold, Input[tree.feature_index])\n",
    "            if  Input[tree.feature_index] >= tree.threshold:\n",
    "#                 print(\"left\")\n",
    "                prediction = self.make_prediction(tree.left, Input)\n",
    "            else:\n",
    "#                 print(\"right\")\n",
    "                prediction = self.make_prediction(tree.right, Input)\n",
    "            return prediction\n",
    "    # inorder traversal\n",
    "    def display(self,tree):\n",
    "        if tree.value != None:\n",
    "            #print(f\"\\t\\t\\tleaf value: {tree.value}\")\n",
    "            return\n",
    "        self.display(tree.left)\n",
    "        print(f\"feature: {tree.feature_index}, threshold: {tree.threshold}\")\n",
    "        self.display(tree.right)\n",
    "        return\n",
    "        \n",
    "        "
   ]
  },
  {
   "cell_type": "code",
   "execution_count": 6,
   "id": "f37aa984",
   "metadata": {},
   "outputs": [],
   "source": [
    "data = pd.read_csv('classification.csv')\n",
    "# data.info()\n",
    "X_train, X_test, y_train, y_test = train_test_split(data.iloc[:,:-1].values, data.iloc[:,-1].values, \n",
    "                                                   train_size=0.8, random_state=1)"
   ]
  },
  {
   "cell_type": "markdown",
   "id": "7fc09310",
   "metadata": {},
   "source": [
    "### Q1 (Gini Index values)\n",
    "- Note: Increasing max depth might increases accuracy"
   ]
  },
  {
   "cell_type": "code",
   "execution_count": 7,
   "id": "e77ff140",
   "metadata": {},
   "outputs": [
    {
     "name": "stdout",
     "output_type": "stream",
     "text": [
      "[42.5, 0.1905972635392829]\n",
      "[89500.0, 0.13182194055944052]\n"
     ]
    }
   ],
   "source": [
    "Train = np.concatenate([X_train, y_train.reshape(-1,1)], axis=1)\n",
    "classifier1 = DecisionTree(Train, n=2, max_depth=3, cont_indx=[0,1], criteria=GI)\n",
    "print(classifier1.get_threshold(data.values,0))\n",
    "print(classifier1.get_threshold(data.values,1))"
   ]
  },
  {
   "cell_type": "markdown",
   "id": "33db0796",
   "metadata": {},
   "source": [
    "### Q2 (Decision tree classifier)\n",
    "- Compute mode while prediction, if the DT weren't able to purely split the data samples at leaf node"
   ]
  },
  {
   "cell_type": "markdown",
   "id": "95ba9d86",
   "metadata": {},
   "source": [
    "##### Dataset 1"
   ]
  },
  {
   "cell_type": "code",
   "execution_count": 8,
   "id": "a31e2ac6",
   "metadata": {},
   "outputs": [
    {
     "name": "stdout",
     "output_type": "stream",
     "text": [
      "Depth reached\n",
      "Depth reached\n",
      "Depth reached\n",
      "Depth reached\n",
      "Depth reached\n",
      "Depth reached\n",
      "Depth reached\n",
      "Depth reached\n",
      "Depth reached\n",
      "Depth reached\n"
     ]
    }
   ],
   "source": [
    "classifier1.root = classifier1.build_tree(Train,current_depth=0)"
   ]
  },
  {
   "cell_type": "code",
   "execution_count": 9,
   "id": "8d3f6f4a",
   "metadata": {},
   "outputs": [
    {
     "name": "stdout",
     "output_type": "stream",
     "text": [
      "feature: 1, threshold: 48000.0\n",
      "feature: 1, threshold: 41500.0\n",
      "feature: 0, threshold: 46.5\n",
      "feature: 1, threshold: 85000.0\n",
      "feature: 1, threshold: 52000.0\n",
      "feature: 1, threshold: 22500.0\n",
      "feature: 0, threshold: 44.5\n",
      "feature: 1, threshold: 118500.0\n",
      "feature: 1, threshold: 112500.0\n",
      "feature: 1, threshold: 90500.0\n",
      "feature: 1, threshold: 83500.0\n",
      "feature: 0, threshold: 36.5\n"
     ]
    }
   ],
   "source": [
    "# Inorder traversal\n",
    "classifier1.display(classifier1.root)"
   ]
  },
  {
   "cell_type": "code",
   "execution_count": 10,
   "id": "b02f429f",
   "metadata": {},
   "outputs": [
    {
     "data": {
      "text/plain": [
       "0.8375"
      ]
     },
     "execution_count": 10,
     "metadata": {},
     "output_type": "execute_result"
    }
   ],
   "source": [
    "predictions = classifier1.predict(X_test)\n",
    "(y_test == predictions).mean()"
   ]
  },
  {
   "cell_type": "markdown",
   "id": "888025f8",
   "metadata": {},
   "source": [
    "##### Dataset 2"
   ]
  },
  {
   "cell_type": "code",
   "execution_count": 11,
   "id": "dbaa4569",
   "metadata": {},
   "outputs": [],
   "source": [
    "data2 = np.load(\"data.npy\")"
   ]
  },
  {
   "cell_type": "code",
   "execution_count": 12,
   "id": "7de7907c",
   "metadata": {},
   "outputs": [],
   "source": [
    "# X_train, X_test, y_train, y_test = train_test_split(data2[:, :-1], data2[:, -1], train_size=0.8, random_state=1)\n",
    "# X_train.shape, y_train.shape"
   ]
  },
  {
   "cell_type": "code",
   "execution_count": 13,
   "id": "a9571bf1",
   "metadata": {},
   "outputs": [
    {
     "name": "stdout",
     "output_type": "stream",
     "text": [
      "feature: 2, threshold: 1\n",
      "feature: 0, threshold: 1\n",
      "feature: 1, threshold: 1\n",
      "feature: 0, threshold: 1\n"
     ]
    }
   ],
   "source": [
    "# Train = np.concatenate([X_train, y_train.reshape(-1,1)], axis=1)\n",
    "Dmodel2 = DecisionTree(data2, n=3, max_depth=5, criteria=entropy)\n",
    "Dmodel2.root = Dmodel2.build_tree(data2,current_depth=0)\n",
    "Dmodel2.display(Dmodel2.root)"
   ]
  },
  {
   "cell_type": "markdown",
   "id": "7b72fbff",
   "metadata": {},
   "source": [
    "#### Toy test data"
   ]
  },
  {
   "cell_type": "code",
   "execution_count": 14,
   "id": "c51cbd7d",
   "metadata": {},
   "outputs": [],
   "source": [
    "X_test = np.array([[1,1,1],[1,0,1],[1,0,0],[1,0,0],[1,1,1],[0,1,1],[0,0,0],[1,0,1],[0,1,0],[1,0,0]])\n",
    "y_test = np.array([1,1,0,0,1,0,0,1,1,0])"
   ]
  },
  {
   "cell_type": "code",
   "execution_count": 15,
   "id": "5a319ded",
   "metadata": {},
   "outputs": [
    {
     "data": {
      "text/plain": [
       "0.9"
      ]
     },
     "execution_count": 15,
     "metadata": {},
     "output_type": "execute_result"
    }
   ],
   "source": [
    "(Dmodel2.predict(X_test) == y_test).mean()"
   ]
  },
  {
   "cell_type": "code",
   "execution_count": 16,
   "id": "c6d7ab30",
   "metadata": {},
   "outputs": [
    {
     "data": {
      "text/plain": [
       "array([1, 1, 0, 0, 1, 1, 0, 1, 1, 0])"
      ]
     },
     "execution_count": 16,
     "metadata": {},
     "output_type": "execute_result"
    }
   ],
   "source": [
    "(Dmodel2.predict(X_test))"
   ]
  },
  {
   "cell_type": "code",
   "execution_count": 17,
   "id": "7052119c",
   "metadata": {},
   "outputs": [
    {
     "data": {
      "text/plain": [
       "array([1, 1, 0, 0, 1, 0, 0, 1, 1, 0])"
      ]
     },
     "execution_count": 17,
     "metadata": {},
     "output_type": "execute_result"
    }
   ],
   "source": [
    "y_test"
   ]
  },
  {
   "cell_type": "markdown",
   "id": "dd9fdcfa",
   "metadata": {},
   "source": [
    "# Part 2 (Gradient Descent for Linear regression from scratch)"
   ]
  },
  {
   "cell_type": "code",
   "execution_count": 18,
   "id": "1e41e3f1",
   "metadata": {},
   "outputs": [],
   "source": [
    "import matplotlib.pyplot as plt\n",
    "from sklearn.metrics import mean_squared_error, mean_absolute_error, r2_score"
   ]
  },
  {
   "cell_type": "code",
   "execution_count": 19,
   "id": "837fcd14",
   "metadata": {},
   "outputs": [],
   "source": [
    "def generate_data():\n",
    "    noise = np.random.normal(0,70, (1000)) *  np.random.uniform(-10,10,1)\n",
    "    x = np.arange(1000)\n",
    "    # y = mx + c + noise\n",
    "    y =  x * 0.8 * np.random.rand() + 0 + noise \n",
    "    x = x.reshape(-1,1)\n",
    "    y = y.reshape(-1,1)\n",
    "    data = np.concatenate([x,y], axis=1)\n",
    "    return data"
   ]
  },
  {
   "cell_type": "code",
   "execution_count": 20,
   "id": "a213fbae",
   "metadata": {},
   "outputs": [
    {
     "data": {
      "text/plain": [
       "(1000, 2)"
      ]
     },
     "execution_count": 20,
     "metadata": {},
     "output_type": "execute_result"
    }
   ],
   "source": [
    "np.random.seed(1)\n",
    "data = generate_data()\n",
    "data.shape"
   ]
  },
  {
   "cell_type": "code",
   "execution_count": 21,
   "id": "f084812e",
   "metadata": {},
   "outputs": [
    {
     "data": {
      "text/plain": [
       "[<matplotlib.lines.Line2D at 0x15dcf5870>]"
      ]
     },
     "execution_count": 21,
     "metadata": {},
     "output_type": "execute_result"
    },
    {
     "data": {
      "image/png": "[encoded data removed]",
      "text/plain": [
       "<Figure size 640x480 with 1 Axes>"
      ]
     },
     "metadata": {},
     "output_type": "display_data"
    }
   ],
   "source": [
    "plt.plot(data[:, 0], data[:, 1], linestyle=\"\", marker='.')"
   ]
  },
  {
   "cell_type": "markdown",
   "id": "560d7453",
   "metadata": {},
   "source": [
    "## Split"
   ]
  },
  {
   "cell_type": "code",
   "execution_count": 22,
   "id": "bc08eab3",
   "metadata": {},
   "outputs": [],
   "source": [
    "def split(data, seed):\n",
    "    np.random.seed(seed)\n",
    "    np.random.shuffle(data)\n",
    "    train_size = int(0.8 * len(data))\n",
    "    train = data[ : train_size, : ]\n",
    "    test = data[train_size: , :]\n",
    "    return train[:, 0], test[:,0] ,train[:, 1], test[:,1]"
   ]
  },
  {
   "cell_type": "code",
   "execution_count": 23,
   "id": "6a053184",
   "metadata": {},
   "outputs": [],
   "source": [
    "train_X, test_X, train_y, test_y = split(data, 42)"
   ]
  },
  {
   "cell_type": "code",
   "execution_count": 24,
   "id": "eb3814f0",
   "metadata": {},
   "outputs": [
    {
     "data": {
      "text/plain": [
       "((800,), (800,))"
      ]
     },
     "execution_count": 24,
     "metadata": {},
     "output_type": "execute_result"
    }
   ],
   "source": [
    "train_X.shape, train_y.shape"
   ]
  },
  {
   "cell_type": "code",
   "execution_count": 25,
   "id": "7d160f40",
   "metadata": {},
   "outputs": [
    {
     "data": {
      "text/plain": [
       "((200,), (200,))"
      ]
     },
     "execution_count": 25,
     "metadata": {},
     "output_type": "execute_result"
    }
   ],
   "source": [
    "test_X.shape, test_y.shape"
   ]
  },
  {
   "cell_type": "markdown",
   "id": "7514c05d",
   "metadata": {},
   "source": [
    "## Regression model"
   ]
  },
  {
   "cell_type": "markdown",
   "id": "9df5f8d8",
   "metadata": {},
   "source": [
    "### From scratch"
   ]
  },
  {
   "cell_type": "code",
   "execution_count": 26,
   "id": "75e803a6",
   "metadata": {},
   "outputs": [],
   "source": [
    "class Model:\n",
    "    def __init__(self, in_features, alpha):\n",
    "        self.w = np.random.rand(in_features) \n",
    "        self.b = np.random.rand(1) \n",
    "        self.alpha = alpha\n",
    "    def forward(self, x):\n",
    "        result =  x * (self.w) + self.b \n",
    "        return result\n",
    "    \n",
    "    def update(self, x, y):\n",
    "        dJ_dw = np.sum((self.w * x - y)*(x))\n",
    "        dJ_db = np.sum((self.w * x - y))\n",
    "        self.w = self.w - self.alpha * dJ_dw\n",
    "        self.b = self.b - self.alpha * dJ_db\n",
    "\n"
   ]
  },
  {
   "cell_type": "code",
   "execution_count": 27,
   "id": "bc65697e",
   "metadata": {},
   "outputs": [],
   "source": [
    "def error(pred, y):\n",
    "    return (np.mean((pred - y) ** 2))"
   ]
  },
  {
   "cell_type": "code",
   "execution_count": 28,
   "id": "156c28de",
   "metadata": {},
   "outputs": [],
   "source": [
    "def train(model, epoch, x, y):\n",
    "    for i in range(epoch):\n",
    "        pred = model.forward(x)\n",
    "        cost = error(pred, y)\n",
    "        model.update(x,y)\n",
    "        print(f'Epoch: {i+1}, loss: {cost}')"
   ]
  },
  {
   "cell_type": "code",
   "execution_count": 29,
   "id": "cf0f3ae9",
   "metadata": {},
   "outputs": [
    {
     "name": "stdout",
     "output_type": "stream",
     "text": [
      "Epoch: 1, loss: 24019.98381774881\n",
      "Epoch: 2, loss: 24019.980853152578\n",
      "Epoch: 3, loss: 24019.977888572048\n",
      "Epoch: 4, loss: 24019.97492400724\n",
      "Epoch: 5, loss: 24019.971959458144\n",
      "Epoch: 6, loss: 24019.968994924762\n",
      "Epoch: 7, loss: 24019.966030407093\n",
      "Epoch: 8, loss: 24019.96306590513\n",
      "Epoch: 9, loss: 24019.960101418885\n",
      "Epoch: 10, loss: 24019.95713694836\n",
      "Epoch: 11, loss: 24019.954172493537\n",
      "Epoch: 12, loss: 24019.951208054434\n",
      "Epoch: 13, loss: 24019.94824363104\n",
      "Epoch: 14, loss: 24019.94527922336\n",
      "Epoch: 15, loss: 24019.94231483139\n",
      "Epoch: 16, loss: 24019.939350455134\n",
      "Epoch: 17, loss: 24019.936386094596\n",
      "Epoch: 18, loss: 24019.93342174976\n",
      "Epoch: 19, loss: 24019.930457420647\n",
      "Epoch: 20, loss: 24019.927493107236\n",
      "Epoch: 21, loss: 24019.924528809544\n",
      "Epoch: 22, loss: 24019.921564527565\n",
      "Epoch: 23, loss: 24019.918600261295\n",
      "Epoch: 24, loss: 24019.91563601073\n",
      "Epoch: 25, loss: 24019.912671775885\n",
      "Epoch: 26, loss: 24019.909707556748\n",
      "Epoch: 27, loss: 24019.90674335333\n",
      "Epoch: 28, loss: 24019.903779165616\n",
      "Epoch: 29, loss: 24019.900814993613\n",
      "Epoch: 30, loss: 24019.897850837326\n",
      "Epoch: 31, loss: 24019.894886696748\n",
      "Epoch: 32, loss: 24019.891922571882\n",
      "Epoch: 33, loss: 24019.88895846273\n",
      "Epoch: 34, loss: 24019.885994369284\n",
      "Epoch: 35, loss: 24019.883030291552\n",
      "Epoch: 36, loss: 24019.880066229525\n",
      "Epoch: 37, loss: 24019.877102183214\n",
      "Epoch: 38, loss: 24019.874138152612\n",
      "Epoch: 39, loss: 24019.871174137723\n",
      "Epoch: 40, loss: 24019.868210138542\n",
      "Epoch: 41, loss: 24019.865246155077\n",
      "Epoch: 42, loss: 24019.862282187314\n",
      "Epoch: 43, loss: 24019.859318235263\n",
      "Epoch: 44, loss: 24019.85635429893\n",
      "Epoch: 45, loss: 24019.853390378295\n",
      "Epoch: 46, loss: 24019.850426473375\n",
      "Epoch: 47, loss: 24019.84746258417\n",
      "Epoch: 48, loss: 24019.84449871067\n",
      "Epoch: 49, loss: 24019.84153485288\n",
      "Epoch: 50, loss: 24019.8385710108\n",
      "Epoch: 51, loss: 24019.83560718443\n",
      "Epoch: 52, loss: 24019.832643373767\n",
      "Epoch: 53, loss: 24019.82967957882\n",
      "Epoch: 54, loss: 24019.826715799576\n",
      "Epoch: 55, loss: 24019.823752036038\n",
      "Epoch: 56, loss: 24019.82078828822\n",
      "Epoch: 57, loss: 24019.8178245561\n",
      "Epoch: 58, loss: 24019.814860839695\n",
      "Epoch: 59, loss: 24019.811897139\n",
      "Epoch: 60, loss: 24019.808933454016\n",
      "Epoch: 61, loss: 24019.805969784735\n",
      "Epoch: 62, loss: 24019.803006131166\n",
      "Epoch: 63, loss: 24019.800042493298\n",
      "Epoch: 64, loss: 24019.797078871146\n",
      "Epoch: 65, loss: 24019.794115264704\n",
      "Epoch: 66, loss: 24019.791151673962\n",
      "Epoch: 67, loss: 24019.78818809894\n",
      "Epoch: 68, loss: 24019.785224539613\n",
      "Epoch: 69, loss: 24019.782260996006\n",
      "Epoch: 70, loss: 24019.7792974681\n",
      "Epoch: 71, loss: 24019.7763339559\n",
      "Epoch: 72, loss: 24019.77337045941\n",
      "Epoch: 73, loss: 24019.770406978627\n",
      "Epoch: 74, loss: 24019.767443513552\n",
      "Epoch: 75, loss: 24019.764480064194\n",
      "Epoch: 76, loss: 24019.761516630533\n",
      "Epoch: 77, loss: 24019.75855321258\n",
      "Epoch: 78, loss: 24019.75558981034\n",
      "Epoch: 79, loss: 24019.752626423804\n",
      "Epoch: 80, loss: 24019.749663052975\n",
      "Epoch: 81, loss: 24019.74669969785\n",
      "Epoch: 82, loss: 24019.743736358432\n",
      "Epoch: 83, loss: 24019.74077303473\n",
      "Epoch: 84, loss: 24019.737809726725\n",
      "Epoch: 85, loss: 24019.734846434425\n",
      "Epoch: 86, loss: 24019.731883157845\n",
      "Epoch: 87, loss: 24019.72891989696\n",
      "Epoch: 88, loss: 24019.725956651782\n",
      "Epoch: 89, loss: 24019.722993422314\n",
      "Epoch: 90, loss: 24019.72003020855\n",
      "Epoch: 91, loss: 24019.717067010497\n",
      "Epoch: 92, loss: 24019.714103828148\n",
      "Epoch: 93, loss: 24019.7111406615\n",
      "Epoch: 94, loss: 24019.708177510565\n",
      "Epoch: 95, loss: 24019.70521437533\n",
      "Epoch: 96, loss: 24019.702251255807\n",
      "Epoch: 97, loss: 24019.69928815198\n",
      "Epoch: 98, loss: 24019.69632506387\n",
      "Epoch: 99, loss: 24019.693361991456\n",
      "Epoch: 100, loss: 24019.690398934752\n",
      "Epoch: 101, loss: 24019.687435893753\n",
      "Epoch: 102, loss: 24019.684472868463\n",
      "Epoch: 103, loss: 24019.681509858874\n",
      "Epoch: 104, loss: 24019.67854686499\n",
      "Epoch: 105, loss: 24019.675583886812\n",
      "Epoch: 106, loss: 24019.67262092434\n",
      "Epoch: 107, loss: 24019.669657977574\n",
      "Epoch: 108, loss: 24019.666695046508\n",
      "Epoch: 109, loss: 24019.66373213115\n",
      "Epoch: 110, loss: 24019.6607692315\n",
      "Epoch: 111, loss: 24019.657806347554\n",
      "Epoch: 112, loss: 24019.6548434793\n",
      "Epoch: 113, loss: 24019.651880626763\n",
      "Epoch: 114, loss: 24019.648917789924\n",
      "Epoch: 115, loss: 24019.64595496879\n",
      "Epoch: 116, loss: 24019.642992163364\n",
      "Epoch: 117, loss: 24019.64002937364\n",
      "Epoch: 118, loss: 24019.63706659962\n",
      "Epoch: 119, loss: 24019.63410384131\n",
      "Epoch: 120, loss: 24019.631141098693\n",
      "Epoch: 121, loss: 24019.628178371782\n",
      "Epoch: 122, loss: 24019.625215660577\n",
      "Epoch: 123, loss: 24019.622252965077\n",
      "Epoch: 124, loss: 24019.619290285278\n",
      "Epoch: 125, loss: 24019.61632762118\n",
      "Epoch: 126, loss: 24019.61336497279\n",
      "Epoch: 127, loss: 24019.610402340102\n",
      "Epoch: 128, loss: 24019.607439723117\n",
      "Epoch: 129, loss: 24019.604477121833\n",
      "Epoch: 130, loss: 24019.601514536254\n",
      "Epoch: 131, loss: 24019.59855196638\n",
      "Epoch: 132, loss: 24019.595589412205\n",
      "Epoch: 133, loss: 24019.59262687374\n",
      "Epoch: 134, loss: 24019.589664350966\n",
      "Epoch: 135, loss: 24019.5867018439\n",
      "Epoch: 136, loss: 24019.583739352543\n",
      "Epoch: 137, loss: 24019.580776876875\n",
      "Epoch: 138, loss: 24019.577814416916\n",
      "Epoch: 139, loss: 24019.574851972662\n",
      "Epoch: 140, loss: 24019.571889544106\n",
      "Epoch: 141, loss: 24019.56892713126\n",
      "Epoch: 142, loss: 24019.56596473411\n",
      "Epoch: 143, loss: 24019.563002352657\n",
      "Epoch: 144, loss: 24019.560039986907\n",
      "Epoch: 145, loss: 24019.557077636862\n",
      "Epoch: 146, loss: 24019.554115302515\n",
      "Epoch: 147, loss: 24019.551152983877\n",
      "Epoch: 148, loss: 24019.548190680936\n",
      "Epoch: 149, loss: 24019.545228393697\n",
      "Epoch: 150, loss: 24019.54226612216\n"
     ]
    }
   ],
   "source": [
    "np.random.seed(1)\n",
    "model = Model(1, 0.00000000000001)\n",
    "train(model, 150, train_X, train_y)"
   ]
  },
  {
   "cell_type": "markdown",
   "id": "6bbdff07",
   "metadata": {},
   "source": [
    "### Evaluation"
   ]
  },
  {
   "cell_type": "code",
   "execution_count": 30,
   "id": "1bcf53be",
   "metadata": {},
   "outputs": [],
   "source": [
    "def visual(x, y, pred):\n",
    "    plt.plot(x, y, linestyle=\"\", c='r', marker='.')\n",
    "    plt.plot(x, pred, linestyle=\"-\", c='g')\n",
    "    plt.show()"
   ]
  },
  {
   "cell_type": "code",
   "execution_count": 31,
   "id": "226e348c",
   "metadata": {},
   "outputs": [
    {
     "name": "stdout",
     "output_type": "stream",
     "text": [
      "r2 score: 0.3318442885454065\n",
      "MSE: 26060.421781173944\n",
      "MAE: 125.49687992002528\n"
     ]
    }
   ],
   "source": [
    "predict1 = model.forward(test_X)\n",
    "print(f'r2 score: {r2_score(y_true=test_y, y_pred=predict1)}')\n",
    "print(f'MSE: {mean_squared_error(predict1, test_y)}')\n",
    "print(f'MAE: {mean_absolute_error(predict1, test_y)}')"
   ]
  },
  {
   "cell_type": "code",
   "execution_count": 32,
   "id": "632e6f77",
   "metadata": {},
   "outputs": [
    {
     "data": {
      "image/png": "[encoded data removed]",
      "text/plain": [
       "<Figure size 640x480 with 1 Axes>"
      ]
     },
     "metadata": {},
     "output_type": "display_data"
    }
   ],
   "source": [
    "visual(test_X, test_y, predict1)"
   ]
  },
  {
   "cell_type": "markdown",
   "id": "07745a16",
   "metadata": {},
   "source": [
    "## Sklearn model"
   ]
  },
  {
   "cell_type": "code",
   "execution_count": 33,
   "id": "f0a8fd8e",
   "metadata": {},
   "outputs": [],
   "source": [
    "from sklearn.linear_model import LinearRegression"
   ]
  },
  {
   "cell_type": "code",
   "execution_count": 34,
   "id": "0e7b62df",
   "metadata": {},
   "outputs": [],
   "source": [
    "reg = LinearRegression()\n",
    "model2 = reg.fit(train_X.reshape(-1,1), train_y)"
   ]
  },
  {
   "cell_type": "code",
   "execution_count": 35,
   "id": "577201c4",
   "metadata": {},
   "outputs": [
    {
     "name": "stdout",
     "output_type": "stream",
     "text": [
      "r2 score: 0.30130472584498436\n",
      "MSE: 27251.572094404026\n",
      "MAE: 127.71450470056554\n"
     ]
    }
   ],
   "source": [
    "predict2 = model2.predict(test_X.reshape(-1,1))\n",
    "print(f'r2 score: {r2_score( y_true=test_y, y_pred=predict2)}')\n",
    "print(f'MSE: {mean_squared_error(predict2, test_y)}')\n",
    "print(f'MAE: {mean_absolute_error(predict2, test_y)}')"
   ]
  },
  {
   "cell_type": "code",
   "execution_count": 36,
   "id": "4151b6a3",
   "metadata": {},
   "outputs": [
    {
     "data": {
      "image/png": "[encoded data removed]",
      "text/plain": [
       "<Figure size 640x480 with 1 Axes>"
      ]
     },
     "metadata": {},
     "output_type": "display_data"
    }
   ],
   "source": [
    "visual(test_X, test_y, predict2)"
   ]
  },
  {
   "cell_type": "markdown",
   "id": "4065f136",
   "metadata": {},
   "source": [
    "### Observations\n",
    "- Both regression line are same. Reason being, data is not that complicated hence even my from `scratch model` performs equally well to sklearn's model."
   ]
  },
  {
   "cell_type": "markdown",
   "id": "27327821",
   "metadata": {},
   "source": []
  }
 ],
 "metadata": {
  "kernelspec": {
   "display_name": "spyder",
   "language": "python",
   "name": "python3"
  },
  "language_info": {
   "codemirror_mode": {
    "name": "ipython",
    "version": 3
   },
   "file_extension": ".py",
   "mimetype": "text/x-python",
   "name": "python",
   "nbconvert_exporter": "python",
   "pygments_lexer": "ipython3",
   "version": "3.10.6 (main, Oct  7 2022, 15:17:36) [Clang 12.0.0 ]"
  },
  "vscode": {
   "interpreter": {
    "hash": "c63909d350ce8d9b87a1de9763e74d04c16b161f418e7c161ffd7aa329df7504"
   }
  }
 },
 "nbformat": 4,
 "nbformat_minor": 5
}
