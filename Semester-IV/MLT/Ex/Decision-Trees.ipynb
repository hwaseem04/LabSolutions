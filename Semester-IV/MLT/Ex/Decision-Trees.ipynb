{
 "cells": [
  {
   "cell_type": "code",
   "execution_count": 1,
   "id": "5463fc9d",
   "metadata": {},
   "outputs": [],
   "source": [
    "import pandas as pd\n",
    "import numpy as np"
   ]
  },
  {
   "cell_type": "markdown",
   "id": "68528514",
   "metadata": {},
   "source": [
    "## Read data"
   ]
  },
  {
   "cell_type": "code",
   "execution_count": 95,
   "id": "fbda8716",
   "metadata": {},
   "outputs": [],
   "source": [
    "data = pd.read_csv('mushrooms.csv')"
   ]
  },
  {
   "cell_type": "code",
   "execution_count": 96,
   "id": "caaf490b",
   "metadata": {},
   "outputs": [
    {
     "name": "stdout",
     "output_type": "stream",
     "text": [
      "<class 'pandas.core.frame.DataFrame'>\n",
      "RangeIndex: 8124 entries, 0 to 8123\n",
      "Data columns (total 23 columns):\n",
      " #   Column                    Non-Null Count  Dtype \n",
      "---  ------                    --------------  ----- \n",
      " 0   class                     8124 non-null   object\n",
      " 1   cap-shape                 8124 non-null   object\n",
      " 2   cap-surface               8124 non-null   object\n",
      " 3   cap-color                 8124 non-null   object\n",
      " 4   bruises                   8124 non-null   object\n",
      " 5   odor                      8124 non-null   object\n",
      " 6   gill-attachment           8124 non-null   object\n",
      " 7   gill-spacing              8124 non-null   object\n",
      " 8   gill-size                 8124 non-null   object\n",
      " 9   gill-color                8124 non-null   object\n",
      " 10  stalk-shape               8124 non-null   object\n",
      " 11  stalk-root                8124 non-null   object\n",
      " 12  stalk-surface-above-ring  8124 non-null   object\n",
      " 13  stalk-surface-below-ring  8124 non-null   object\n",
      " 14  stalk-color-above-ring    8124 non-null   object\n",
      " 15  stalk-color-below-ring    8124 non-null   object\n",
      " 16  veil-type                 8124 non-null   object\n",
      " 17  veil-color                8124 non-null   object\n",
      " 18  ring-number               8124 non-null   object\n",
      " 19  ring-type                 8124 non-null   object\n",
      " 20  spore-print-color         8124 non-null   object\n",
      " 21  population                8124 non-null   object\n",
      " 22  habitat                   8124 non-null   object\n",
      "dtypes: object(23)\n",
      "memory usage: 1.4+ MB\n"
     ]
    }
   ],
   "source": [
    "data.info()"
   ]
  },
  {
   "cell_type": "markdown",
   "id": "76705205",
   "metadata": {},
   "source": [
    "## Preprocessing"
   ]
  },
  {
   "cell_type": "markdown",
   "id": "9a1e379e",
   "metadata": {},
   "source": [
    "### Selecting only few columns"
   ]
  },
  {
   "cell_type": "code",
   "execution_count": 97,
   "id": "cbb8d315",
   "metadata": {},
   "outputs": [],
   "source": [
    "data = data[['cap-color', 'stalk-shape', 'population', 'class']]"
   ]
  },
  {
   "cell_type": "markdown",
   "id": "d9dfd1fe",
   "metadata": {},
   "source": [
    "### for cap-color ; selection only if cap-color = brown or red\n",
    "- If brown --> 1\n",
    "- else --> 0"
   ]
  },
  {
   "cell_type": "code",
   "execution_count": 98,
   "id": "d10b2c8d",
   "metadata": {},
   "outputs": [],
   "source": [
    "data = data[(data['cap-color'] == 'n') | (data['cap-color'] == 'e' )]"
   ]
  },
  {
   "cell_type": "code",
   "execution_count": 99,
   "id": "1e584f17",
   "metadata": {},
   "outputs": [],
   "source": [
    "data['cap-color'] = np.where(data['cap-color'] == 'n', 1, 0)"
   ]
  },
  {
   "cell_type": "markdown",
   "id": "10eec760",
   "metadata": {},
   "source": [
    "### For population\n",
    "- If solitary --> 1\n",
    "- else --> 0"
   ]
  },
  {
   "cell_type": "code",
   "execution_count": 100,
   "id": "98d61ed8",
   "metadata": {},
   "outputs": [],
   "source": [
    "data['population'] = np.where(data['population']=='y',1,0)"
   ]
  },
  {
   "cell_type": "markdown",
   "id": "63f4c368",
   "metadata": {},
   "source": [
    "### For stalk-shape column\n",
    "- if enlarge --> 1\n",
    "- else --> 0"
   ]
  },
  {
   "cell_type": "code",
   "execution_count": 101,
   "id": "280e5b1c",
   "metadata": {},
   "outputs": [],
   "source": [
    "data['stalk-shape'] = np.where(data['stalk-shape']=='e', 1, 0)"
   ]
  },
  {
   "cell_type": "markdown",
   "id": "533a8275",
   "metadata": {},
   "source": [
    "### For class prediction"
   ]
  },
  {
   "cell_type": "code",
   "execution_count": 102,
   "id": "fefaec97",
   "metadata": {},
   "outputs": [],
   "source": [
    "data['class'] = np.where(data['class']=='e', 1, 0)"
   ]
  },
  {
   "cell_type": "markdown",
   "id": "71479ce8",
   "metadata": {},
   "source": [
    "#### Distribution"
   ]
  },
  {
   "cell_type": "code",
   "execution_count": 103,
   "id": "c33297d4",
   "metadata": {},
   "outputs": [
    {
     "data": {
      "text/plain": [
       "1    2284\n",
       "0    1500\n",
       "Name: cap-color, dtype: int64"
      ]
     },
     "execution_count": 103,
     "metadata": {},
     "output_type": "execute_result"
    }
   ],
   "source": [
    "data['cap-color'].value_counts()"
   ]
  },
  {
   "cell_type": "code",
   "execution_count": 104,
   "id": "7f1da53e",
   "metadata": {},
   "outputs": [
    {
     "data": {
      "text/plain": [
       "0    3136\n",
       "1     648\n",
       "Name: stalk-shape, dtype: int64"
      ]
     },
     "execution_count": 104,
     "metadata": {},
     "output_type": "execute_result"
    }
   ],
   "source": [
    "\n",
    "data['stalk-shape'].value_counts()"
   ]
  },
  {
   "cell_type": "code",
   "execution_count": 105,
   "id": "74066200",
   "metadata": {},
   "outputs": [
    {
     "data": {
      "text/plain": [
       "0    3116\n",
       "1     668\n",
       "Name: population, dtype: int64"
      ]
     },
     "execution_count": 105,
     "metadata": {},
     "output_type": "execute_result"
    }
   ],
   "source": [
    "data['population'].value_counts()"
   ]
  },
  {
   "cell_type": "code",
   "execution_count": 106,
   "id": "c7754b0c",
   "metadata": {},
   "outputs": [],
   "source": [
    "from sklearn.model_selection import train_test_split\n",
    "train, test = train_test_split(data[['cap-color', 'stalk-shape', 'population','class']].values, train_size=0.8, random_state=42)"
   ]
  },
  {
   "cell_type": "code",
   "execution_count": 107,
   "id": "83396e7b",
   "metadata": {},
   "outputs": [
    {
     "data": {
      "text/plain": [
       "((3027, 4), (757, 4))"
      ]
     },
     "execution_count": 107,
     "metadata": {},
     "output_type": "execute_result"
    }
   ],
   "source": [
    "train.shape,test.shape"
   ]
  },
  {
   "cell_type": "markdown",
   "id": "47a59bb1",
   "metadata": {},
   "source": [
    "## Decision tree "
   ]
  },
  {
   "cell_type": "markdown",
   "id": "9266d059",
   "metadata": {},
   "source": [
    "### Gini Index calculation"
   ]
  },
  {
   "cell_type": "code",
   "execution_count": 108,
   "id": "c70ba02d",
   "metadata": {},
   "outputs": [],
   "source": [
    "def  GI(y):\n",
    "    \"\"\"\n",
    "    y - Numpy array for which Gini impurity need to be calculated\n",
    "    \n",
    "    \"\"\"\n",
    "    # No more splits\n",
    "    if (len(y) == 0):\n",
    "        return 0\n",
    "    \n",
    "    p1 = np.sum(y==1)/len(y) # edible\n",
    "    p0 = 1 - p1 # Not edible\n",
    "    P = p1**2 + p0**2\n",
    "\n",
    "    GI = 1 - P\n",
    "    \n",
    "    return GI"
   ]
  },
  {
   "cell_type": "markdown",
   "id": "807abe8d",
   "metadata": {},
   "source": [
    "### Entropy Calculation"
   ]
  },
  {
   "cell_type": "code",
   "execution_count": 238,
   "id": "b0c1b090",
   "metadata": {},
   "outputs": [],
   "source": [
    "def  entropy(y):\n",
    "    \"\"\"\n",
    "    y - Numpy array for which entropy need to be calculated\n",
    "    \n",
    "    \"\"\"\n",
    "    # No more splits\n",
    "    if (len(y) == 0):\n",
    "        return 0\n",
    "    \n",
    "    p1 = np.sum(y==1)/len(y) # edible\n",
    "    p0 = 1 - p1 # Not edible\n",
    "    \n",
    "    # If  there exist a pure split, then there exist only one subset (either yes or no). So one probability will be 0.\n",
    "    # If proability is 0, log(0) is not defined. Hence for calculation purpose 0 is returned as the entropy\n",
    "    if p1 == 0 or p0 == 0:\n",
    "        return 0\n",
    "    entropy = - p1 * np.log2(p1) - p0 * np.log2(p0)\n",
    "    \n",
    "    return entropy"
   ]
  },
  {
   "cell_type": "markdown",
   "id": "4f71175d",
   "metadata": {},
   "source": [
    "### Information gain calculation"
   ]
  },
  {
   "cell_type": "code",
   "execution_count": 253,
   "id": "9fb575aa",
   "metadata": {},
   "outputs": [],
   "source": [
    "def information_gain(Data, feature, criteria, thresh=1):\n",
    "    \"\"\"\n",
    "    Data: matrix of  Remaininf data to be splitted with 3 features and labels\n",
    "    feature: index of features based on which split is done:  possible values 0,1,2\n",
    "    criteria: Whether to use Gini-Index or Entropy\n",
    "    \"\"\"\n",
    "    if len(Data) == 0:\n",
    "        return None\n",
    "        \n",
    "    LeftNode_index  = np.where(Data[: , feature] >= thresh)[0] \n",
    "    RightNode_index = np.where(Data[: , feature] < thresh)[0]\n",
    "    \n",
    "    LeftNode = Data[LeftNode_index, -1] # Empty data frame if no examples on right node\n",
    "    RightNode = Data[RightNode_index, -1] # Empty data frame if no examples on right node\n",
    "\n",
    "    # Main node entropy\n",
    "    RootNode = Data[:, -1]\n",
    "    E_root = criteria(RootNode)\n",
    "    \n",
    "    # Calculate entropy for left and right nodes.\n",
    "    # Below subsets may/may'nt contain both edible and non edible mushrooms\n",
    "    E_L = criteria(LeftNode) # feature value = 1\n",
    "    E_R = criteria(RightNode) # feature value = 0\n",
    "    \n",
    "    # Weights, i.e subset proportion for left and right nodes\n",
    "    w_L = len(LeftNode)/len(Data)\n",
    "    w_R = len(RightNode)/len(Data)\n",
    "    \n",
    "    # Information gain\n",
    "    IG = E_root - (w_L * E_L) - (w_R * E_R)\n",
    "    \n",
    "    return IG, LeftNode_index, RightNode_index\n"
   ]
  },
  {
   "cell_type": "code",
   "execution_count": 254,
   "id": "c95d40f4",
   "metadata": {},
   "outputs": [
    {
     "data": {
      "text/plain": [
       "0.009390220543105898"
      ]
     },
     "execution_count": 254,
     "metadata": {},
     "output_type": "execute_result"
    }
   ],
   "source": [
    "IG, left_index, right_index = information_gain(train, 0, GI)\n",
    "IG#, left_index, right_index"
   ]
  },
  {
   "cell_type": "code",
   "execution_count": 255,
   "id": "c93249e5",
   "metadata": {},
   "outputs": [
    {
     "data": {
      "text/plain": [
       "0.013606074784502153"
      ]
     },
     "execution_count": 255,
     "metadata": {},
     "output_type": "execute_result"
    }
   ],
   "source": [
    "IG, left_index, right_index = information_gain(train, 0, entropy)\n",
    "IG#, left_index, right_index"
   ]
  },
  {
   "cell_type": "markdown",
   "id": "c048cdbc",
   "metadata": {},
   "source": [
    "----"
   ]
  },
  {
   "cell_type": "code",
   "execution_count": 256,
   "id": "201cf234",
   "metadata": {},
   "outputs": [
    {
     "data": {
      "text/plain": [
       "0.025783460888718968"
      ]
     },
     "execution_count": 256,
     "metadata": {},
     "output_type": "execute_result"
    }
   ],
   "source": [
    "IG, left_index, right_index = information_gain(train, 1, GI)\n",
    "IG#, left_index, right_index"
   ]
  },
  {
   "cell_type": "code",
   "execution_count": 257,
   "id": "def4834f",
   "metadata": {},
   "outputs": [
    {
     "data": {
      "text/plain": [
       "0.03853124397558094"
      ]
     },
     "execution_count": 257,
     "metadata": {},
     "output_type": "execute_result"
    }
   ],
   "source": [
    "IG, left_index, right_index = information_gain(train, 1, entropy)\n",
    "IG#, left_index, right_index"
   ]
  },
  {
   "cell_type": "markdown",
   "id": "18b891e4",
   "metadata": {},
   "source": [
    "---"
   ]
  },
  {
   "cell_type": "code",
   "execution_count": 258,
   "id": "fcc333b8",
   "metadata": {},
   "outputs": [
    {
     "data": {
      "text/plain": [
       "0.10877250015287399"
      ]
     },
     "execution_count": 258,
     "metadata": {},
     "output_type": "execute_result"
    }
   ],
   "source": [
    "IG, left_index, right_index = information_gain(train, 2, GI)\n",
    "IG#, left_index, right_index"
   ]
  },
  {
   "cell_type": "code",
   "execution_count": 259,
   "id": "5848f61a",
   "metadata": {},
   "outputs": [
    {
     "data": {
      "text/plain": [
       "0.2058977188556389"
      ]
     },
     "execution_count": 259,
     "metadata": {},
     "output_type": "execute_result"
    }
   ],
   "source": [
    "IG, left_index, right_index = information_gain(train, 2, entropy)\n",
    "IG#, left_index, right_index"
   ]
  },
  {
   "cell_type": "markdown",
   "id": "e8d35927",
   "metadata": {},
   "source": [
    "### To get best split node at any instant"
   ]
  },
  {
   "cell_type": "code",
   "execution_count": 260,
   "id": "d34241b6",
   "metadata": {},
   "outputs": [],
   "source": [
    "def get_best_split(data, n, criteria):\n",
    "    \"\"\"\n",
    "    data -> Elements in the current root node\n",
    "    n -> Number of features in dataframe\n",
    "    criteria -> Choice of using Gini index or Entropy: GI - Gini Index or Entropy\n",
    "    \n",
    "    returns list containing: \n",
    "    Best split's Information gain value\n",
    "    Best split's left node index\n",
    "    Best split's right node index\n",
    "    Best split feature number\n",
    "    \n",
    "    \"\"\"\n",
    "    Max_IG = [0,[],[], None]\n",
    "    for i in range(n):\n",
    "        IG, leftNode_idx, rightNode_idx = information_gain(data, i, criteria) \n",
    "        if IG >= Max_IG[0]:\n",
    "            Max_IG = [IG, leftNode_idx, rightNode_idx, i]\n",
    "    return Max_IG"
   ]
  },
  {
   "cell_type": "code",
   "execution_count": 261,
   "id": "87ea09b0",
   "metadata": {},
   "outputs": [
    {
     "data": {
      "text/plain": [
       "0"
      ]
     },
     "execution_count": 261,
     "metadata": {},
     "output_type": "execute_result"
    }
   ],
   "source": [
    "\n",
    "len(data.iloc[np.where(data.iloc[: , 1] == 3)[0], :])"
   ]
  },
  {
   "cell_type": "code",
   "execution_count": 262,
   "id": "14551bb3",
   "metadata": {},
   "outputs": [
    {
     "name": "stdout",
     "output_type": "stream",
     "text": [
      "Best feature to use as root node is: 2\n"
     ]
    }
   ],
   "source": [
    "print(f\"Best feature to use as root node is: {get_best_split(train, 3, GI)[3]}\")"
   ]
  },
  {
   "cell_type": "markdown",
   "id": "3edf7963",
   "metadata": {},
   "source": [
    "### Building decision tree\n",
    "- **Stopping criteria**\n",
    "    1. When there is no impurity at all split.\n",
    "    1. When reaching a maximum specified depth. \n",
    "    1. When improvement in purity score is below certain threshold.\n",
    "    1. When Number of examples in a node is below a threshold.\n",
    "- I will be using **1 & 2** \n",
    "    - Say depth = 2"
   ]
  },
  {
   "cell_type": "code",
   "execution_count": 263,
   "id": "199f255a",
   "metadata": {},
   "outputs": [],
   "source": [
    "def build_tree(data, name, max_depth, current_depth, criteria=GI):\n",
    "    if max_depth == current_depth:\n",
    "        return\n",
    "    if len(data) == 0:\n",
    "        return\n",
    "    _, leftNode_idx, rightNode_idx, feature = get_best_split(data, 3, criteria)\n",
    "    leftNodeData = data[leftNode_idx, :]\n",
    "    rightNodeData = data[rightNode_idx, :]\n",
    "    \n",
    "    if len(rightNodeData) == 0 or len(leftNodeData) == 0:\n",
    "        print(f\"purity achieved: {data.shape}\")\n",
    "        return\n",
    "    \n",
    "    print(data.shape, leftNodeData.shape, rightNodeData.shape)\n",
    "    \n",
    "    tree.append([name, feature]) # Node name, feature selected at that node\n",
    "    \n",
    "    build_tree(leftNodeData, \"left\", max_depth, current_depth+1, criteria)\n",
    "    build_tree(rightNodeData, \"right\", max_depth, current_depth+1, criteria)"
   ]
  },
  {
   "cell_type": "code",
   "execution_count": 264,
   "id": "ea040d4d",
   "metadata": {},
   "outputs": [
    {
     "name": "stdout",
     "output_type": "stream",
     "text": [
      "(3027, 4) (529, 4) (2498, 4)\n",
      "purity achieved: (529, 4)\n",
      "(2498, 4) (437, 4) (2061, 4)\n",
      "(437, 4) (390, 4) (47, 4)\n",
      "(2061, 4) (1113, 4) (948, 4)\n"
     ]
    },
    {
     "data": {
      "text/plain": [
       "[['root', 2], ['right', 1], ['left', 0], ['right', 0]]"
      ]
     },
     "execution_count": 264,
     "metadata": {},
     "output_type": "execute_result"
    }
   ],
   "source": [
    "tree = []\n",
    "build_tree(train,\"root\", 3, 0, criteria=GI)\n",
    "\n",
    "tree"
   ]
  },
  {
   "cell_type": "code",
   "execution_count": null,
   "id": "68633f4d",
   "metadata": {},
   "outputs": [],
   "source": []
  }
 ],
 "metadata": {
  "kernelspec": {
   "display_name": "Python 3 (ipykernel)",
   "language": "python",
   "name": "python3"
  },
  "language_info": {
   "codemirror_mode": {
    "name": "ipython",
    "version": 3
   },
   "file_extension": ".py",
   "mimetype": "text/x-python",
   "name": "python",
   "nbconvert_exporter": "python",
   "pygments_lexer": "ipython3",
   "version": "3.10.6"
  }
 },
 "nbformat": 4,
 "nbformat_minor": 5
}
