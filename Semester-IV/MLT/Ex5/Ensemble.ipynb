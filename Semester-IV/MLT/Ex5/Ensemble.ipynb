{
 "cells": [
  {
   "cell_type": "code",
   "execution_count": 89,
   "id": "e1019a79",
   "metadata": {},
   "outputs": [],
   "source": [
    "import pandas as pd\n",
    "import numpy as np\n",
    "\n",
    "import warnings\n",
    "warnings.filterwarnings('ignore')"
   ]
  },
  {
   "cell_type": "code",
   "execution_count": 2,
   "id": "094837c2",
   "metadata": {},
   "outputs": [],
   "source": [
    "data =  pd.read_csv(\"mobile_price_classification.csv\")"
   ]
  },
  {
   "cell_type": "code",
   "execution_count": 4,
   "id": "56a793b4",
   "metadata": {},
   "outputs": [
    {
     "name": "stdout",
     "output_type": "stream",
     "text": [
      "<class 'pandas.core.frame.DataFrame'>\n",
      "RangeIndex: 2000 entries, 0 to 1999\n",
      "Data columns (total 21 columns):\n",
      " #   Column         Non-Null Count  Dtype  \n",
      "---  ------         --------------  -----  \n",
      " 0   battery_power  2000 non-null   int64  \n",
      " 1   blue           2000 non-null   int64  \n",
      " 2   clock_speed    2000 non-null   float64\n",
      " 3   dual_sim       2000 non-null   int64  \n",
      " 4   fc             2000 non-null   int64  \n",
      " 5   four_g         2000 non-null   int64  \n",
      " 6   int_memory     2000 non-null   int64  \n",
      " 7   m_dep          2000 non-null   float64\n",
      " 8   mobile_wt      2000 non-null   int64  \n",
      " 9   n_cores        1841 non-null   object \n",
      " 10  pc             2000 non-null   int64  \n",
      " 11  px_height      2000 non-null   int64  \n",
      " 12  px_width       2000 non-null   int64  \n",
      " 13  ram            2000 non-null   int64  \n",
      " 14  sc_h           2000 non-null   int64  \n",
      " 15  sc_w           2000 non-null   int64  \n",
      " 16  talk_time      2000 non-null   int64  \n",
      " 17  three_g        2000 non-null   int64  \n",
      " 18  touch_screen   2000 non-null   int64  \n",
      " 19  wifi           2000 non-null   int64  \n",
      " 20  price_range    2000 non-null   int64  \n",
      "dtypes: float64(2), int64(18), object(1)\n",
      "memory usage: 328.2+ KB\n"
     ]
    }
   ],
   "source": [
    "data.info()"
   ]
  },
  {
   "cell_type": "code",
   "execution_count": 6,
   "id": "bf5e1717",
   "metadata": {},
   "outputs": [],
   "source": [
    "data = data.dropna()"
   ]
  },
  {
   "cell_type": "code",
   "execution_count": 15,
   "id": "c021864b",
   "metadata": {},
   "outputs": [],
   "source": [
    "data['n_cores'] = data['n_cores'].replace('x', 1)\n",
    "data['n_cores'] = data['n_cores'].astype('float')"
   ]
  },
  {
   "cell_type": "markdown",
   "id": "e79f3824",
   "metadata": {},
   "source": [
    "### Models\n"
   ]
  },
  {
   "cell_type": "code",
   "execution_count": 18,
   "id": "9e9a09d0",
   "metadata": {},
   "outputs": [],
   "source": [
    "from sklearn.tree import DecisionTreeClassifier\n",
    "from sklearn.linear_model import LogisticRegression\n",
    "from sklearn.svm import SVC\n",
    "from sklearn.neighbors import KNeighborsClassifier\n",
    "from sklearn.naive_bayes import GaussianNB\n",
    "\n",
    "from sklearn.model_selection import train_test_split"
   ]
  },
  {
   "cell_type": "code",
   "execution_count": 74,
   "id": "81eeae13",
   "metadata": {},
   "outputs": [],
   "source": [
    "from sklearn.experimental import enable_halving_search_cv\n",
    "from sklearn.model_selection import GridSearchCV, HalvingGridSearchCV, RandomizedSearchCV"
   ]
  },
  {
   "cell_type": "code",
   "execution_count": 75,
   "id": "a7519835",
   "metadata": {},
   "outputs": [],
   "source": [
    "from sklearn.metrics import f1_score, accuracy_score"
   ]
  },
  {
   "cell_type": "markdown",
   "id": "ee9102dc",
   "metadata": {},
   "source": [
    "### BAGGING"
   ]
  },
  {
   "cell_type": "code",
   "execution_count": 76,
   "id": "e983f6d6",
   "metadata": {},
   "outputs": [],
   "source": [
    "train, test = train_test_split(data, random_state=2, train_size=0.8)"
   ]
  },
  {
   "cell_type": "code",
   "execution_count": 77,
   "id": "27e538e1",
   "metadata": {},
   "outputs": [
    {
     "data": {
      "text/html": [
       "<div>\n",
       "<style scoped>\n",
       "    .dataframe tbody tr th:only-of-type {\n",
       "        vertical-align: middle;\n",
       "    }\n",
       "\n",
       "    .dataframe tbody tr th {\n",
       "        vertical-align: top;\n",
       "    }\n",
       "\n",
       "    .dataframe thead th {\n",
       "        text-align: right;\n",
       "    }\n",
       "</style>\n",
       "<table border=\"1\" class=\"dataframe\">\n",
       "  <thead>\n",
       "    <tr style=\"text-align: right;\">\n",
       "      <th></th>\n",
       "      <th>battery_power</th>\n",
       "      <th>blue</th>\n",
       "      <th>clock_speed</th>\n",
       "      <th>dual_sim</th>\n",
       "      <th>fc</th>\n",
       "      <th>four_g</th>\n",
       "      <th>int_memory</th>\n",
       "      <th>m_dep</th>\n",
       "      <th>mobile_wt</th>\n",
       "      <th>n_cores</th>\n",
       "      <th>...</th>\n",
       "      <th>px_height</th>\n",
       "      <th>px_width</th>\n",
       "      <th>ram</th>\n",
       "      <th>sc_h</th>\n",
       "      <th>sc_w</th>\n",
       "      <th>talk_time</th>\n",
       "      <th>three_g</th>\n",
       "      <th>touch_screen</th>\n",
       "      <th>wifi</th>\n",
       "      <th>price_range</th>\n",
       "    </tr>\n",
       "  </thead>\n",
       "  <tbody>\n",
       "    <tr>\n",
       "      <th>1277</th>\n",
       "      <td>1528</td>\n",
       "      <td>0</td>\n",
       "      <td>2.4</td>\n",
       "      <td>0</td>\n",
       "      <td>2</td>\n",
       "      <td>0</td>\n",
       "      <td>37</td>\n",
       "      <td>0.2</td>\n",
       "      <td>156</td>\n",
       "      <td>8.0</td>\n",
       "      <td>...</td>\n",
       "      <td>306</td>\n",
       "      <td>564</td>\n",
       "      <td>733</td>\n",
       "      <td>15</td>\n",
       "      <td>0</td>\n",
       "      <td>14</td>\n",
       "      <td>1</td>\n",
       "      <td>1</td>\n",
       "      <td>0</td>\n",
       "      <td>0</td>\n",
       "    </tr>\n",
       "    <tr>\n",
       "      <th>1926</th>\n",
       "      <td>1122</td>\n",
       "      <td>0</td>\n",
       "      <td>0.5</td>\n",
       "      <td>0</td>\n",
       "      <td>0</td>\n",
       "      <td>1</td>\n",
       "      <td>40</td>\n",
       "      <td>0.3</td>\n",
       "      <td>156</td>\n",
       "      <td>7.0</td>\n",
       "      <td>...</td>\n",
       "      <td>675</td>\n",
       "      <td>1163</td>\n",
       "      <td>1456</td>\n",
       "      <td>9</td>\n",
       "      <td>3</td>\n",
       "      <td>20</td>\n",
       "      <td>1</td>\n",
       "      <td>1</td>\n",
       "      <td>0</td>\n",
       "      <td>1</td>\n",
       "    </tr>\n",
       "    <tr>\n",
       "      <th>1729</th>\n",
       "      <td>1982</td>\n",
       "      <td>0</td>\n",
       "      <td>1.1</td>\n",
       "      <td>0</td>\n",
       "      <td>12</td>\n",
       "      <td>0</td>\n",
       "      <td>24</td>\n",
       "      <td>0.1</td>\n",
       "      <td>129</td>\n",
       "      <td>7.0</td>\n",
       "      <td>...</td>\n",
       "      <td>764</td>\n",
       "      <td>1873</td>\n",
       "      <td>3511</td>\n",
       "      <td>16</td>\n",
       "      <td>14</td>\n",
       "      <td>15</td>\n",
       "      <td>1</td>\n",
       "      <td>1</td>\n",
       "      <td>1</td>\n",
       "      <td>3</td>\n",
       "    </tr>\n",
       "    <tr>\n",
       "      <th>1463</th>\n",
       "      <td>1147</td>\n",
       "      <td>0</td>\n",
       "      <td>0.8</td>\n",
       "      <td>1</td>\n",
       "      <td>11</td>\n",
       "      <td>0</td>\n",
       "      <td>28</td>\n",
       "      <td>0.7</td>\n",
       "      <td>158</td>\n",
       "      <td>6.0</td>\n",
       "      <td>...</td>\n",
       "      <td>1085</td>\n",
       "      <td>1134</td>\n",
       "      <td>2627</td>\n",
       "      <td>18</td>\n",
       "      <td>3</td>\n",
       "      <td>15</td>\n",
       "      <td>1</td>\n",
       "      <td>0</td>\n",
       "      <td>1</td>\n",
       "      <td>2</td>\n",
       "    </tr>\n",
       "    <tr>\n",
       "      <th>961</th>\n",
       "      <td>1807</td>\n",
       "      <td>1</td>\n",
       "      <td>0.5</td>\n",
       "      <td>1</td>\n",
       "      <td>2</td>\n",
       "      <td>1</td>\n",
       "      <td>61</td>\n",
       "      <td>0.1</td>\n",
       "      <td>134</td>\n",
       "      <td>6.0</td>\n",
       "      <td>...</td>\n",
       "      <td>1734</td>\n",
       "      <td>1968</td>\n",
       "      <td>3726</td>\n",
       "      <td>8</td>\n",
       "      <td>5</td>\n",
       "      <td>15</td>\n",
       "      <td>1</td>\n",
       "      <td>0</td>\n",
       "      <td>0</td>\n",
       "      <td>3</td>\n",
       "    </tr>\n",
       "  </tbody>\n",
       "</table>\n",
       "<p>5 rows × 21 columns</p>\n",
       "</div>"
      ],
      "text/plain": [
       "      battery_power  blue  clock_speed  dual_sim  fc  four_g  int_memory  \\\n",
       "1277           1528     0          2.4         0   2       0          37   \n",
       "1926           1122     0          0.5         0   0       1          40   \n",
       "1729           1982     0          1.1         0  12       0          24   \n",
       "1463           1147     0          0.8         1  11       0          28   \n",
       "961            1807     1          0.5         1   2       1          61   \n",
       "\n",
       "      m_dep  mobile_wt  n_cores  ...  px_height  px_width   ram  sc_h  sc_w  \\\n",
       "1277    0.2        156      8.0  ...        306       564   733    15     0   \n",
       "1926    0.3        156      7.0  ...        675      1163  1456     9     3   \n",
       "1729    0.1        129      7.0  ...        764      1873  3511    16    14   \n",
       "1463    0.7        158      6.0  ...       1085      1134  2627    18     3   \n",
       "961     0.1        134      6.0  ...       1734      1968  3726     8     5   \n",
       "\n",
       "      talk_time  three_g  touch_screen  wifi  price_range  \n",
       "1277         14        1             1     0            0  \n",
       "1926         20        1             1     0            1  \n",
       "1729         15        1             1     1            3  \n",
       "1463         15        1             0     1            2  \n",
       "961          15        1             0     0            3  \n",
       "\n",
       "[5 rows x 21 columns]"
      ]
     },
     "execution_count": 77,
     "metadata": {},
     "output_type": "execute_result"
    }
   ],
   "source": [
    "train.head()"
   ]
  },
  {
   "cell_type": "code",
   "execution_count": 78,
   "id": "e6417004",
   "metadata": {},
   "outputs": [],
   "source": [
    "X_train, X_test, y_train, y_test = train_test_split(data.iloc[:, :-1].values, data.iloc[:, -1].values, random_state=2, train_size=0.8)"
   ]
  },
  {
   "cell_type": "code",
   "execution_count": 79,
   "id": "16ce8b72",
   "metadata": {},
   "outputs": [
    {
     "data": {
      "text/plain": [
       "((1472, 20), (1472,))"
      ]
     },
     "execution_count": 79,
     "metadata": {},
     "output_type": "execute_result"
    }
   ],
   "source": [
    "X_train.shape, y_train.shape"
   ]
  },
  {
   "cell_type": "code",
   "execution_count": 80,
   "id": "4f76cbaf",
   "metadata": {},
   "outputs": [],
   "source": [
    "np.random.seed(10)\n",
    "a = np.random.dirichlet(np.ones(4),size=20)\n",
    "List = [i for i in a]\n",
    "\n",
    "k = [i for i in range(20)]\n",
    "k.append('sqrt')\n",
    "k.append('log2')\n",
    "\n",
    "k1 = ['linear', 'poly', 'sigmoid']\n",
    "d = [3,4]\n",
    "g = ['scale','auto']\n"
   ]
  },
  {
   "cell_type": "code",
   "execution_count": 99,
   "id": "c02ecec8",
   "metadata": {},
   "outputs": [],
   "source": [
    "a = DecisionTreeClassifier(random_state=32)"
   ]
  },
  {
   "cell_type": "code",
   "execution_count": 109,
   "id": "8e172adc",
   "metadata": {},
   "outputs": [
    {
     "data": {
      "text/plain": [
       "{'ccp_alpha': 0.0,\n",
       " 'class_weight': None,\n",
       " 'criterion': 'gini',\n",
       " 'max_depth': None,\n",
       " 'max_features': None,\n",
       " 'max_leaf_nodes': None,\n",
       " 'min_impurity_decrease': 0.0,\n",
       " 'min_samples_leaf': 1,\n",
       " 'min_samples_split': 2,\n",
       " 'min_weight_fraction_leaf': 0.0,\n",
       " 'random_state': 32,\n",
       " 'splitter': 'best'}"
      ]
     },
     "execution_count": 109,
     "metadata": {},
     "output_type": "execute_result"
    }
   ],
   "source": [
    "a.set_params = {'max_features': k}\n",
    "a.get_params()"
   ]
  },
  {
   "cell_type": "code",
   "execution_count": 124,
   "id": "b5c2f568",
   "metadata": {},
   "outputs": [
    {
     "name": "stdout",
     "output_type": "stream",
     "text": [
      "0.8383373688458434\n",
      "{'max_features': 19}\n",
      "0.8383535108958838\n",
      "{'max_features': 17}\n",
      "0.9694407932664593\n",
      "{'degree': 3, 'gamma': 'scale', 'kernel': 'linear'}\n",
      "0.9327683615819209\n",
      "{'n_neighbors': 15}\n",
      "0.8037149775164304\n",
      "{'priors': array([0.20576641, 0.20085726, 0.33937841, 0.25399793])}\n"
     ]
    }
   ],
   "source": [
    "bag = 5\n",
    "models = [DecisionTreeClassifier(random_state=32), DecisionTreeClassifier(random_state=43), SVC(), KNeighborsClassifier(), GaussianNB()]\n",
    "parameter = [{'max_features': k}, {'max_features': k}, {'kernel': k1, 'gamma' : g, 'degree': d},{'n_neighbors': [1,2,3,4,5,6,7,8,9,10,11,12, 15,16,20]}, {'priors': List}]\n",
    "\n",
    "index = np.arange(X_train.shape[0])\n",
    "train_s =  int(X_train.shape[0] * 0.8)\n",
    "\n",
    "np.random.seed(42)\n",
    "fit_models = []\n",
    "for i, model in enumerate(models):\n",
    "    np.random.shuffle(index)\n",
    "    train_data = X_train[index[:train_s], :]\n",
    "    train_label = y_train[index[:train_s]]\n",
    "    \n",
    "#     grid = RandomizedSearchCV(model, param_distributions= parameter[i] ,   cv=5, n_jobs=-1)\n",
    "    grid = GridSearchCV(model, param_grid= parameter[i] ,   cv=5, n_jobs=-1)\n",
    "    grid.fit(X_train, y_train)\n",
    "    print(grid.best_score_)\n",
    "    print(grid.best_params_)\n",
    "    \n",
    "    model.set_params(**grid.best_params_)\n",
    "    #print(model.get_params())\n",
    "    fit_models.append(model.fit(X_train, y_train))"
   ]
  },
  {
   "cell_type": "code",
   "execution_count": 119,
   "id": "3b0b2df0",
   "metadata": {},
   "outputs": [
    {
     "data": {
      "text/plain": [
       "{'C': 1.0,\n",
       " 'break_ties': False,\n",
       " 'cache_size': 200,\n",
       " 'class_weight': None,\n",
       " 'coef0': 0.0,\n",
       " 'decision_function_shape': 'ovr',\n",
       " 'degree': 3,\n",
       " 'gamma': 'scale',\n",
       " 'kernel': 'linear',\n",
       " 'max_iter': -1,\n",
       " 'probability': False,\n",
       " 'random_state': None,\n",
       " 'shrinking': True,\n",
       " 'tol': 0.001,\n",
       " 'verbose': False}"
      ]
     },
     "execution_count": 119,
     "metadata": {},
     "output_type": "execute_result"
    }
   ],
   "source": [
    "fit_models[2].get_params()"
   ]
  },
  {
   "cell_type": "code",
   "execution_count": 147,
   "id": "2162f9c1",
   "metadata": {},
   "outputs": [],
   "source": [
    "def predict(models, X_test):\n",
    "    Matrix = pd.DataFrame()\n",
    "    for i, model in enumerate(models):\n",
    "        predicted = model.predict(X_test)\n",
    "        Matrix[i] = predicted\n",
    "    \n",
    "    return  Matrix.mode(axis=1).values.reshape(-1)"
   ]
  },
  {
   "cell_type": "code",
   "execution_count": 150,
   "id": "8e7840c3",
   "metadata": {},
   "outputs": [
    {
     "data": {
      "text/plain": [
       "0.907859078590786"
      ]
     },
     "execution_count": 150,
     "metadata": {},
     "output_type": "execute_result"
    }
   ],
   "source": [
    "(predict(models, X_test) == y_test).mean()"
   ]
  },
  {
   "cell_type": "code",
   "execution_count": null,
   "id": "3ad9dc05",
   "metadata": {},
   "outputs": [],
   "source": []
  }
 ],
 "metadata": {
  "kernelspec": {
   "display_name": "Python 3 (ipykernel)",
   "language": "python",
   "name": "python3"
  },
  "language_info": {
   "codemirror_mode": {
    "name": "ipython",
    "version": 3
   },
   "file_extension": ".py",
   "mimetype": "text/x-python",
   "name": "python",
   "nbconvert_exporter": "python",
   "pygments_lexer": "ipython3",
   "version": "3.10.6"
  }
 },
 "nbformat": 4,
 "nbformat_minor": 5
}
